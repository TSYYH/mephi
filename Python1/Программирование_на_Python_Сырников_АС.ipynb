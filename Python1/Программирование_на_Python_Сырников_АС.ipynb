{
 "cells": [
  {
   "cell_type": "code",
   "execution_count": 1,
   "id": "204f789a-f006-4859-af74-3d81265b173d",
   "metadata": {},
   "outputs": [],
   "source": [
    "from collections import deque\n",
    "from typing import List\n",
    "import random\n",
    "import string\n",
    "from queue import PriorityQueue\n",
    "from enum import Enum\n",
    "from dataclasses import dataclass"
   ]
  },
  {
   "cell_type": "markdown",
   "id": "36378c55-91c6-462c-bc86-4069e38a854c",
   "metadata": {},
   "source": [
    "# Задание 1 (4 балла)\n",
    "\n",
    "## Обратный порядок слов в блоках текста\n",
    "\n",
    "Дан текстовый файл, каждое предложение которого занимает одну строку. Напишите программу, которая разделяет текст на блоки — каждый блок состоит из нескольких предложений. Затем переворачивает порядок слов только внутри каждого предложения, не меняя порядок самих предложений в блоке.\n",
    "\n",
    "Файл содержит:\n",
    "\n",
    "* Привет как дела\n",
    "* На улице идет дождь\n",
    "* Я люблю программирование\n",
    "\n",
    "Критерии оценки:\n",
    "\n",
    "* Текст разделен на блоки корректно — 2 балла.\n",
    "* Корректно перевернуты блоки — 2 балла."
   ]
  },
  {
   "cell_type": "code",
   "execution_count": 2,
   "id": "e4b77e88-465e-4d96-863a-8d776b6827b7",
   "metadata": {},
   "outputs": [],
   "source": [
    "# подготовка файла\n",
    "with open('input.txt', 'w', encoding='utf-8') as f:\n",
    "    f.write('Привет как дела\\nНа улице идет дождь\\nЯ люблю программирование')"
   ]
  },
  {
   "cell_type": "code",
   "execution_count": 3,
   "id": "33a05bd8-c5e8-4940-bd10-ae6016e53dc2",
   "metadata": {},
   "outputs": [
    {
     "name": "stdout",
     "output_type": "stream",
     "text": [
      "Блоки, в которых перевернут порядок слов:\n",
      "['дела как Привет', 'дождь идет улице На']\n",
      "['программирование люблю Я']\n"
     ]
    }
   ],
   "source": [
    "def split_into_blocks(lines: List[str], block_size: int) -> List[str]:\n",
    "    # разделение на блоки равного размера\n",
    "    blocks = []\n",
    "    for i in range(0, len(lines), block_size):\n",
    "        blocks.append(lines[i:i + block_size])\n",
    "    return blocks\n",
    "\n",
    "def reverse_words(blocks: List[List[str]]) -> List[List[str]]:\n",
    "    # переворачивание порядка слов внутри каждого предложения\n",
    "    reversed_blocks = []\n",
    "    for block in blocks:\n",
    "        reversed_block = [' '.join(b.strip().split()[::-1]) for b in block]\n",
    "        reversed_blocks.append(reversed_block)\n",
    "    return reversed_blocks\n",
    "\n",
    "# чтение файла\n",
    "with open('input.txt', 'r', encoding='utf-8') as input_file:\n",
    "    lines = input_file.readlines()\n",
    "\n",
    "# разделение на блоки с размером 2\n",
    "blocks = split_into_blocks(lines, block_size=2)\n",
    "# переворацивание пордка слов\n",
    "reversed_blocks = reverse_words(blocks)\n",
    "\n",
    "# вывод результатов\n",
    "print(\"Блоки, в которых перевернут порядок слов:\", *reversed_blocks, sep='\\n')"
   ]
  },
  {
   "cell_type": "markdown",
   "id": "f03a10da-1c65-4d1b-8389-5f7a760cd537",
   "metadata": {},
   "source": [
    "# Задание 2 (2 балла)\n",
    "\n",
    "Напишите функцию, которая принимает строку и сжимает её определённым образом. Строки содержат произвольные символы, включая пробелы и спецсимволы, и требуют точного учета длины при кодировании. Сжатие строки происходит сериями одинаковых символов в формате символколичество, но только если длина сжатой строки не превышает исходную.\n",
    "\n",
    "Примеры:\n",
    "\n",
    "* вход: aaabbc → вывод: a3b2c,\n",
    "* вход: abcd → вывод: abcd (так как сжатая равна).\n",
    "\n",
    "Критерии оценки:\n",
    "\n",
    "* Корректно очищен текст — 1 балл.\n",
    "* Выполняется условие — 1 балл."
   ]
  },
  {
   "cell_type": "code",
   "execution_count": 4,
   "id": "23a23f84-aa1e-48a5-85f6-bb7dbc9189e8",
   "metadata": {},
   "outputs": [
    {
     "name": "stdout",
     "output_type": "stream",
     "text": [
      "a3b2c\n",
      "abcd\n"
     ]
    }
   ],
   "source": [
    "def compress(line: str) -> str:\n",
    "    result = ''\n",
    "    counter = 0\n",
    "    current_sym = line[0]\n",
    "    \n",
    "    for sym in line:\n",
    "        if current_sym == sym:\n",
    "            counter += 1\n",
    "        else:\n",
    "            result += current_sym + str(counter) * (counter != 1)\n",
    "            counter = 1\n",
    "            current_sym = sym\n",
    "            \n",
    "    result += current_sym + str(counter) * (counter != 1)\n",
    "\n",
    "    return line if len(line) < len(result) else result\n",
    "\n",
    "print(compress('aaabbc'))\n",
    "print(compress('abcd'))"
   ]
  },
  {
   "cell_type": "markdown",
   "id": "e0f08f9a-867f-472d-990a-e9f297a700eb",
   "metadata": {},
   "source": [
    "# Задание 3 (4 балла)\n",
    "Хаотичные скобки\n",
    "\n",
    "Реализуйте функцию, которая проверяет, правильно ли расставлены скобки в строке (включая круглые, квадратные и фигурные скобки).\n",
    "\n",
    "Критерии оценки:\n",
    "\n",
    "* Функция выполняет условие — 4 балла."
   ]
  },
  {
   "cell_type": "code",
   "execution_count": 5,
   "id": "649a5ea6-28d1-4fd5-8c84-654741722a6a",
   "metadata": {},
   "outputs": [
    {
     "name": "stdout",
     "output_type": "stream",
     "text": [
      "True\n",
      "True\n",
      "False\n",
      "False\n",
      "False\n"
     ]
    }
   ],
   "source": [
    "def check_brackets(line: str) -> bool:\n",
    "    open_br = '[({'\n",
    "    close_br = '])}'\n",
    "    open_close = {'[': ']', '(': ')', '{': '}'}\n",
    "    stack = deque()\n",
    "    \n",
    "    for sym in line:\n",
    "        if sym in open_br:\n",
    "            stack.append(sym)\n",
    "        elif sym in close_br:\n",
    "            if len(stack) == 0:\n",
    "                return False\n",
    "            last_br = stack.pop()\n",
    "            if open_close[last_br] != sym:\n",
    "                return False\n",
    "    return True\n",
    "\n",
    "print(check_brackets('()[]{}'))\n",
    "print(check_brackets('(())[]{}'))\n",
    "print(check_brackets('())[]{}'))\n",
    "print(check_brackets('([)]{}'))\n",
    "print(check_brackets('([{)]}'))"
   ]
  },
  {
   "cell_type": "markdown",
   "id": "0ffb8ffb-2360-4105-9e33-62c56977b2c6",
   "metadata": {},
   "source": [
    "# Задание 4 (4 балла)\n",
    "## Генератор случайных паролей\n",
    "\n",
    "Напишите функцию, которая генерирует пароль заданной длины. В реализации надо учитывать, что:\n",
    "\n",
    "* Пароль должен содержать буквы, цифры и специальные символы.\n",
    "* Длина пароля задается пользователем.\n",
    "\n",
    "Критерии оценки:\n",
    "\n",
    "* Функция выполняет все заявленные условия — 4 балла.\n"
   ]
  },
  {
   "cell_type": "code",
   "execution_count": 6,
   "id": "da8a698e-27ec-4ca2-9f90-073a671c8526",
   "metadata": {},
   "outputs": [
    {
     "name": "stdout",
     "output_type": "stream",
     "text": [
      "Y&9\n",
      "\"q7D\n",
      "s>l7-\n",
      "$fE1,t\n",
      "Ku^!6fo\n",
      "9S'hCQ8z\n",
      "}kgjEC*@3\n"
     ]
    }
   ],
   "source": [
    "def generate_pass(length: int = 3) -> str:\n",
    "    if length < 3:\n",
    "        raise ValueError('Длина пароля не может быть меньше 3')\n",
    "        \n",
    "    letters = string.ascii_letters\n",
    "    digits = string.digits\n",
    "    special = string.punctuation\n",
    "    all_sym = letters + digits + special\n",
    "\n",
    "    # хотя-бы один символ каждого типа должен присутствовать\n",
    "    password = [\n",
    "        random.choice(letters),\n",
    "        random.choice(digits),\n",
    "        random.choice(special)\n",
    "    ]\n",
    "\n",
    "    # добавляем оставшиеся символы и перемешиваем список\n",
    "    password += random.choices(all_sym, k=length-3)\n",
    "    random.shuffle(password)\n",
    "\n",
    "    return ''.join(password)\n",
    "\n",
    "for length in range(3, 10):\n",
    "    print(generate_pass(length))"
   ]
  },
  {
   "cell_type": "markdown",
   "id": "385d908e-5968-490e-8d57-dd188ee6b7a8",
   "metadata": {},
   "source": [
    "# Задание 5 (6 баллов)\n",
    "Эмуляция работы электронной очереди\n",
    "\n",
    "Напишите класс для симуляции работы электронной очереди, например, в банке.\n",
    "\n",
    "Критерии оценки:\n",
    "\n",
    "* Система должна поддерживать добавление клиентов с указанием их приоритета (например, VIP, обычный) — 1 балл.\n",
    "* Выбор клиента для следующей обработки должен учитывать приоритет — 1 балл.\n",
    "* Реализуйте отчет для администрации с информацией, сколько времени заняло обслуживание клиентов — 4 балла.\n"
   ]
  },
  {
   "cell_type": "code",
   "execution_count": 7,
   "id": "b62f4c1e-45cb-4051-bb95-1d4f475f3736",
   "metadata": {},
   "outputs": [
    {
     "name": "stdout",
     "output_type": "stream",
     "text": [
      "Обслуживание клиентов\n",
      "--------------------\n",
      "Начало обслуживания клиента 3\n",
      "Время: 1\n",
      "--------------------\n",
      "Начало обслуживания клиента 1\n",
      "Время: 1\n",
      "--------------------\n",
      "Конец обслуживания клиента 3\n",
      "Время: 20\n",
      "Длительность обслуживания: 19\n",
      "--------------------\n",
      "Начало обслуживания клиента 2\n",
      "Время: 20\n",
      "--------------------\n",
      "Конец обслуживания клиента 1\n",
      "Время: 30\n",
      "Длительность обслуживания: 29\n",
      "--------------------\n",
      "Начало обслуживания клиента 4\n",
      "Время: 30\n",
      "--------------------\n",
      "Конец обслуживания клиента 4\n",
      "Время: 41\n",
      "Длительность обслуживания: 11\n",
      "--------------------\n",
      "Конец обслуживания клиента 2\n",
      "Время: 45\n",
      "Длительность обслуживания: 25\n",
      "--------------------\n"
     ]
    }
   ],
   "source": [
    "# приоритеты клиентов\n",
    "class Priority(Enum):\n",
    "    VIP = 1\n",
    "    COMMON = 2\n",
    "\n",
    "\n",
    "@dataclass\n",
    "class Client:\n",
    "    id: int\n",
    "    priority: Priority\n",
    "    start_service_time: int # время начала обслуживания\n",
    "    service_time: int # длительность обслуживания\n",
    "\n",
    "\n",
    "class BankQueue:\n",
    "    def __init__(self):\n",
    "        self.queue = PriorityQueue() # очередь с реализованным приоритетом\n",
    "        self.windows = {1: None, 2: None} # окна обслуживания\n",
    "        self.id_counter = 1 # счетчик id клиентов\n",
    "        self.current_time = 1 # текущее время в минутах\n",
    "\n",
    "    def add_client(self, priority):\n",
    "        # создание клиента со случайным временем обслуживания\n",
    "        client = Client(self.id_counter, priority, 0, random.randint(1, 30))\n",
    "        self.id_counter += 1\n",
    "        self.queue.put((priority.value, self.id_counter, client))\n",
    "\n",
    "    def process(self):\n",
    "        # пока есть клиенты в очереди или хотя бы одно окно занято\n",
    "        while (not self.queue.empty()) or any(self.windows.values()):\n",
    "            # освобождаем окна где закончилось обслуживание\n",
    "            for window, client in zip(self.windows.keys(), self.windows.values()):\n",
    "                if client and client.start_service_time + client.service_time <= self.current_time:\n",
    "                    self.windows[window] = None\n",
    "                    print(f'Конец обслуживания клиента {client.id}\\nВремя: {self.current_time}\\nДлительность обслуживания: {client.service_time}\\n' + '-' * 20)\n",
    "\n",
    "            # отправка клиентов к свободным окнам\n",
    "            while (not self.queue.empty()) and not all(self.windows.values()):\n",
    "                client = self.queue.get()[2]\n",
    "                empty_window = next(w for w, c in self.windows.items() if c is None)\n",
    "                client.start_service_time = self.current_time\n",
    "                self.windows[empty_window] = client\n",
    "                print(f'Начало обслуживания клиента {client.id}\\nВремя: {self.current_time}\\n' + '-' * 20)\n",
    "\n",
    "            self.current_time += 1\n",
    "\n",
    "\n",
    "# Пример использования\n",
    "queue = BankQueue()\n",
    "\n",
    "queue.add_client(Priority.COMMON)\n",
    "queue.add_client(Priority.COMMON)\n",
    "queue.add_client(Priority.VIP)\n",
    "queue.add_client(Priority.COMMON)\n",
    "\n",
    "print('Обслуживание клиентов\\n' + '-' * 20)\n",
    "queue.process()\n"
   ]
  },
  {
   "cell_type": "markdown",
   "id": "e5807cce-ea57-4e27-ac00-ca2ce4111a87",
   "metadata": {},
   "source": [
    "# Задание 6 (2 балла)\n",
    "Проверка на «почти палиндром»\n",
    "\n",
    "Напишите программу, которая проверяет, является ли строка палиндромом или «почти палиндромом». «Почти палиндром» означает, что можно удалить одну букву, чтобы строка стала палиндромом.\n",
    "\n",
    "Критерии оценки:\n",
    "\n",
    "* Функция выполняет все заявленные условия — 2 балла.\n"
   ]
  },
  {
   "cell_type": "code",
   "execution_count": 8,
   "id": "a3e1fda8-2bb1-42aa-8707-3c1fb85e0f47",
   "metadata": {},
   "outputs": [
    {
     "name": "stdout",
     "output_type": "stream",
     "text": [
      "True\n",
      "True\n",
      "True\n",
      "True\n",
      "False\n"
     ]
    }
   ],
   "source": [
    "def is_pal(line, deleted_count=0):\n",
    "    # два указателя\n",
    "    l, r = 0, len(line) - 1\n",
    "    while l < r:\n",
    "        if line[l] == line[r]:\n",
    "            l += 1\n",
    "            r -= 1\n",
    "        else:\n",
    "            # если еще не удаляли букв - рассматриваем два варианта с удалением\n",
    "            if deleted_count < 1:\n",
    "                return is_pal(line[l: r], deleted_count + 1) or is_pal(line[l + 1: r + 1], deleted_count + 1)\n",
    "            return False\n",
    "    return True\n",
    "\n",
    "print(is_pal('aba'))\n",
    "print(is_pal('abaa'))\n",
    "print(is_pal('abaaa'))\n",
    "print(is_pal('abbaa'))\n",
    "print(is_pal('abbaaa'))"
   ]
  },
  {
   "cell_type": "markdown",
   "id": "6c36cc34-7cab-4863-a317-035445543f70",
   "metadata": {},
   "source": [
    "# Задание 7 (9 баллов)\n",
    "## Задача Шредингера\n",
    "\n",
    "Разработайте программу, которая «стирает» фрагменты текста в файле. Например:\n",
    "\n",
    "1. Пользователь указывает файл и процент текста, который нужно удалить (например, 30%).\n",
    "2. Программа случайно выбирает слова или части абзацев и заменяет их на пробел или ..., сохраняя общий объем документа.\n",
    "\n",
    "Вход:\n",
    "«Сегодня солнечный день, и я собираюсь гулять в парке с моими друзьями.»\n",
    "\n",
    "Вывод (удалено ~30%):\n",
    "«Сегодня ... день, и я собираюсь гулять ... моими друзьями.»\n",
    "\n",
    "Критерии оценки:\n",
    "\n",
    "* Чтение файла и ввод параметров пользователя — 3 балла.\n",
    "* Реализация алгоритма случайного удаления текста — 5 баллов.\n",
    "* Запись результата и вывод пользователю — 1 балл.\n"
   ]
  },
  {
   "cell_type": "code",
   "execution_count": 9,
   "id": "8b27abd7-f469-4231-8b92-b228f354d223",
   "metadata": {},
   "outputs": [],
   "source": [
    "# подготовка файла\n",
    "text = '''Он благополучно избегнул встречи с своею хозяйкой на лестнице.\n",
    "Каморка его приходилась под самою кровлей высокого пятиэтажного дома и походила более\n",
    "на шкаф, чем на квартиру. Квартирная же хозяйка его, у которой он\n",
    "нанимал эту каморку с обедом и прислугой, помещалась одною лестницей ниже,\n",
    "в отдельной квартире, и каждый раз, при выходе на улицу, ему непременно надо\n",
    "было проходить мимо хозяйкиной кухни, почти всегда настежь отворенной на лестницу.\n",
    "И каждый раз молодой человек, проходя мимо, чувствовал какое-то болезненное и трусливое ощущение,\n",
    "которого стыдился и от которого морщился. Он был должен кругом хозяйке и боялся с нею встретиться.'''\n",
    "\n",
    "with open('input.txt', 'w', encoding='utf-8') as f:\n",
    "    f.write(text)"
   ]
  },
  {
   "cell_type": "code",
   "execution_count": 10,
   "id": "4375c92b-a136-4001-8059-7e4157ef9c7f",
   "metadata": {},
   "outputs": [
    {
     "name": "stdout",
     "output_type": "stream",
     "text": [
      "Исходный текст:\n",
      "Он благополучно избегнул встречи с своею хозяйкой на лестнице.\n",
      "\n",
      "Каморка его приходилась под самою кровлей высокого пятиэтажного дома и походила более\n",
      "\n",
      "на шкаф, чем на квартиру. Квартирная же хозяйка его, у которой он\n",
      "\n",
      "нанимал эту каморку с обедом и прислугой, помещалась одною лестницей ниже,\n",
      "\n",
      "в отдельной квартире, и каждый раз, при выходе на улицу, ему непременно надо\n",
      "\n",
      "было проходить мимо хозяйкиной кухни, почти всегда настежь отворенной на лестницу.\n",
      "\n",
      "И каждый раз молодой человек, проходя мимо, чувствовал какое-то болезненное и трусливое ощущение,\n",
      "\n",
      "которого стыдился и от которого морщился. Он был должен кругом хозяйке и боялся с нею встретиться.\n",
      "----------------------------------------------------------------------------------------------------\n",
      "Результат (удалено ~30%):\n",
      "Он благополучно избегнул встречи с своею ... на лестнице.\n",
      "\n",
      "Каморка его приходилась под самою кровлей ... пятиэтажного дома и ... более\n",
      "\n",
      "на шкаф, чем ... квартиру. Квартирная же хозяйка ..., у ... ...\n",
      "\n",
      "... эту ... ... ... и прислугой, помещалась ... лестницей ниже,\n",
      "\n",
      "... отдельной квартире, и каждый раз, ... выходе на улицу, ... непременно надо\n",
      "\n",
      "было ... ... ... ..., почти всегда настежь отворенной на ....\n",
      "\n",
      "... каждый ... молодой человек, проходя мимо, чувствовал какое-то болезненное ... трусливое ощущение,\n",
      "\n",
      "которого стыдился и ... которого .... Он ... должен ... ... и боялся с ... встретиться.\n"
     ]
    }
   ],
   "source": [
    "def get_strip_parts(s: str, chars: str = None) -> tuple:\n",
    "    # сохранение пункцтуации перед удалением слова\n",
    "    stripped = s.strip(chars)\n",
    "    left = s[:len(s) - len(s.lstrip(chars))]\n",
    "    right = s[len(stripped) + len(left):]\n",
    "    return left, stripped, right\n",
    "\n",
    "\n",
    "def shred(lines, percent):\n",
    "    # разделение строк на слова и выбор слов для удаления\n",
    "    lines_words = [line.split() for line in lines]\n",
    "    words_count = sum(map(len, lines_words))\n",
    "    delete_count = int(words_count * percent / 100)\n",
    "    word_indexes_to_delete = random.sample(list(range(0, words_count)), k=delete_count)\n",
    "    current_word_index = 0\n",
    "\n",
    "    # проход по всем словам с удалением выбранных ранее слов\n",
    "    for line_ind in range(len(lines_words)):\n",
    "        for word_ind in range(len(lines_words[line_ind])):\n",
    "            if current_word_index in word_indexes_to_delete:\n",
    "                # замена слова на ... с сохранением пунктуации\n",
    "                left, word, right = get_strip_parts(lines_words[line_ind][word_ind], string.punctuation)\n",
    "                lines_words[line_ind][word_ind] = left + '...' + right\n",
    "            current_word_index += 1\n",
    "    return [' '.join(lines_words[line_ind]) for line_ind in range(len(lines_words))]\n",
    "\n",
    "# чтение файла\n",
    "with open('input.txt', 'r', encoding='utf-8') as input_file:\n",
    "    lines = input_file.readlines()\n",
    "text = '\\n'.join(lines)\n",
    "\n",
    "percent = 30\n",
    "print(f'Исходный текст:\\n{text}\\n' + '-' * 100)\n",
    "new_text = \"\\n\".join(shred(text.split(\"\\n\"), percent))\n",
    "print(f'Результат (удалено ~{percent}%):\\n{new_text}')"
   ]
  }
 ],
 "metadata": {
  "kernelspec": {
   "display_name": "Python 3 (ipykernel)",
   "language": "python",
   "name": "python3"
  },
  "language_info": {
   "codemirror_mode": {
    "name": "ipython",
    "version": 3
   },
   "file_extension": ".py",
   "mimetype": "text/x-python",
   "name": "python",
   "nbconvert_exporter": "python",
   "pygments_lexer": "ipython3",
   "version": "3.9.21"
  }
 },
 "nbformat": 4,
 "nbformat_minor": 5
}
