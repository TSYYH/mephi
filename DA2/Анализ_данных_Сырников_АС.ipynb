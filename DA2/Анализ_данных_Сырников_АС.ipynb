{
 "cells": [
  {
   "cell_type": "code",
   "execution_count": 160,
   "id": "f22c742c-dd40-4ff8-abe3-21983fbd37ce",
   "metadata": {},
   "outputs": [],
   "source": [
    "import numpy as np\n",
    "import pandas as pd\n",
    "import matplotlib.pyplot as plt\n",
    "import requests"
   ]
  },
  {
   "cell_type": "markdown",
   "id": "c08b309b-ebcd-488f-ac5a-9486c1c0a0bf",
   "metadata": {},
   "source": [
    "# Задание 1: Работа с массивами NumPy\n",
    "\n",
    "Цель: Проверить знание методов NumPy для анализа данных.\n",
    "\n",
    "Задание:\n",
    "\n",
    "Создайте массив случайных чисел (50 элементов) из диапазона [10, 100].\n",
    "\n",
    "Найдите:\n",
    "\n",
    "- Среднее арифметическое массива.\n",
    "- Медиану.\n",
    "- Стандартное отклонение.\n",
    "- Создайте новый массив, где каждое число изначального массива делится на 3. Отфильтруйте числа, которые делятся без остатка.\n",
    "\n",
    "Ожидаемый ответ:\n",
    "\n",
    "- Вывод среднего, медианы, стандартного отклонения.\n",
    "- Новый массив и его фильтр."
   ]
  },
  {
   "cell_type": "code",
   "execution_count": 161,
   "id": "e40c9939-afb6-4c82-9dd4-cd1c8d96e3d6",
   "metadata": {},
   "outputs": [
    {
     "name": "stdout",
     "output_type": "stream",
     "text": [
      "Среднее арифметическое: 53.82\n",
      "Медиана: 50.0\n",
      "Стандартное отклонение: 25.342999033263606\n",
      "Новый массив:\n",
      "[32.33333333  7.66666667 16.33333333 28.33333333 23.         18.66666667\n",
      " 20.66666667  7.66666667 14.33333333 20.         28.         24.66666667\n",
      "  9.         22.66666667 23.66666667  9.33333333 17.          8.33333333\n",
      " 18.         22.         15.66666667 16.33333333 23.33333333 11.66666667\n",
      " 10.66666667 16.         13.         16.33333333  5.33333333 32.\n",
      " 30.66666667 10.33333333 11.         32.66666667 27.66666667 33.33333333\n",
      " 29.         27.33333333 22.66666667 26.          5.66666667  5.66666667\n",
      " 12.33333333 20.         25.66666667  8.33333333 13.          4.\n",
      "  4.66666667 15.        ]\n",
      "Фильтр без остатка:\n",
      "[23. 20. 28.  9. 17. 18. 22. 16. 13. 32. 11. 29. 26. 20. 13.  4. 15.]\n"
     ]
    }
   ],
   "source": [
    "# массив случайных чисел\n",
    "rand_arr = np.random.randint(10, 100 + 1, 50)\n",
    "\n",
    "# среднее арифметическое\n",
    "mean = np.mean(rand_arr)\n",
    "\n",
    "# медиана\n",
    "median = np.median(rand_arr)\n",
    "\n",
    "# стандартное отклонение\n",
    "std = np.std(rand_arr)\n",
    "\n",
    "# новый массив, где каждое число изначального массива делится на 3\n",
    "new_arr = rand_arr / 3\n",
    "\n",
    "# фильтр чисел без остатка\n",
    "new_arr_filtered = new_arr[new_arr % 1 == 0]\n",
    "\n",
    "print(f'Среднее арифметическое: {mean}')\n",
    "print(f'Медиана: {median}')\n",
    "print(f'Стандартное отклонение: {std}')\n",
    "print(f'Новый массив:\\n{new_arr}')\n",
    "print(f'Фильтр без остатка:\\n{new_arr_filtered}')\n"
   ]
  },
  {
   "cell_type": "markdown",
   "id": "2ce88287-42fc-480c-aa27-4a025f4961ee",
   "metadata": {},
   "source": [
    "# Задание 2: Анализ данных с помощью Pandas\n",
    "\n",
    "Цель: Проверить навыки анализа и обработки данных.\n",
    "\n",
    "Данные: Используйте предоставленный CSV-файл (\"sales_data_large.csv\"), содержащий данные о продажах с полями:\n",
    "\n",
    "- date (дата продаж),\n",
    "- region (регион),\n",
    "- product (продукт),\n",
    "- sales (объем продаж).\n",
    "\n",
    "Задание:\n",
    "\n",
    "1. Загрузите данные из файла.\n",
    "2. Определите:\n",
    "   - Общее количество записей.\n",
    "   - Какие регионы и продукты присутствуют в данных.\n",
    "3. Подсчитайте:\n",
    "   - Общие продажи по регионам.\n",
    "   - Средний объем продаж для каждого продукта.\n",
    "4. Постройте сводную таблицу, показывающую средние продажи по регионам и продуктам.\n",
    "\n",
    "Ожидаемый ответ:\n",
    "\n",
    "- Итоги анализа данных.\n",
    "- Построенная сводная таблица."
   ]
  },
  {
   "cell_type": "code",
   "execution_count": 162,
   "id": "96c4fbaa-9b00-4ebf-b0fa-86717b47b241",
   "metadata": {},
   "outputs": [
    {
     "name": "stdout",
     "output_type": "stream",
     "text": [
      "<class 'pandas.core.frame.DataFrame'>\n",
      "RangeIndex: 500 entries, 0 to 499\n",
      "Data columns (total 4 columns):\n",
      " #   Column   Non-Null Count  Dtype \n",
      "---  ------   --------------  ----- \n",
      " 0   date     500 non-null    object\n",
      " 1   region   500 non-null    object\n",
      " 2   product  500 non-null    object\n",
      " 3   sales    500 non-null    int64 \n",
      "dtypes: int64(1), object(3)\n",
      "memory usage: 15.8+ KB\n",
      "None\n",
      "\n",
      "Количество записей: 500\n",
      "Регионы в данных:\n",
      "['West' 'South' 'East' 'North']\n",
      "Продукты в данных:\n",
      "['Widget C' 'Widget B' 'Widget A']\n",
      "\n",
      "Общие продажи по регионам:\n",
      "region\n",
      "East     29244\n",
      "North    39605\n",
      "South    33023\n",
      "West     35171\n",
      "\n",
      "Средний объем продаж для каждого продукта:\n",
      "product\n",
      "Widget A    275.424242\n",
      "Widget B    268.331361\n",
      "Widget C    278.614458\n",
      "\n",
      "Сводная таблица для средних продаж по регионам и продуктам:\n",
      "product    Widget A    Widget B    Widget C\n",
      "region                                     \n",
      "East     291.464286  263.116279  271.361111\n",
      "North    289.145833  238.477273  304.660000\n",
      "South    277.380952  282.833333  263.722222\n",
      "West     250.106383  291.550000  267.136364\n"
     ]
    }
   ],
   "source": [
    "# чтение файла\n",
    "df = pd.read_csv('sales_data_large.csv')\n",
    "print(df.info())\n",
    "\n",
    "# количество записей\n",
    "num_of_records = df.shape[0]\n",
    "# уникальные регионы\n",
    "regions = df['region'].unique()\n",
    "# уникальные продукты\n",
    "products = df['product'].unique()\n",
    "\n",
    "print(f'\\nКоличество записей: {num_of_records}')\n",
    "print(f'Регионы в данных:\\n{regions}')\n",
    "print(f'Продукты в данных:\\n{products}')\n",
    "\n",
    "# общие продажи по регионам\n",
    "sales_by_region = df.groupby('region')['sales'].sum()\n",
    "# средний объем продаж по продуктам\n",
    "mean_sales_by_product = df.groupby('product')['sales'].mean()\n",
    "# сводная таблица для средних продаж по регионам и продуктам\n",
    "pivot_table = df.pivot_table(values='sales', index='region', columns='product', aggfunc='mean')\n",
    "\n",
    "print(f'\\nОбщие продажи по регионам:\\n{sales_by_region.to_string()}')\n",
    "print(f'\\nСредний объем продаж для каждого продукта:\\n{mean_sales_by_product.to_string()}')\n",
    "print(f'\\nСводная таблица для средних продаж по регионам и продуктам:\\n{pivot_table.to_string()}')"
   ]
  },
  {
   "cell_type": "markdown",
   "id": "01b74b9b-e560-4e51-bce2-c5c04ecf39c2",
   "metadata": {},
   "source": [
    "# Задание 3: Очистка данных и визуализация\n",
    "\n",
    "Цель: Проверить умение находить и исправлять ошибки в данных, а также визуализировать их.\n",
    "\n",
    "Данные: Используйте предоставленный CSV-файл (\"sales_cleaning_large.csv\"), содержащий данные о продажах с возможными пропущенными и некорректными значениями. \n",
    "\n",
    "Поля:\n",
    "\n",
    "- date (дата продаж),\n",
    "- sales (объем продаж),\n",
    "- region (регион).\n",
    "\n",
    "Задание:\n",
    "\n",
    "1. Найдите и устраните ошибки в данных:\n",
    "    - Заполните пропущенные даты.\n",
    "    - Удалите отрицательные значения в столбце sales или замените их на медиану столбца.\n",
    "    - Заполните пропущенные значения в sales средним значением.\n",
    "\n",
    "2. Постройте график продаж по датам. Убедитесь, что даты упорядочены.\n",
    "\n",
    "Ожидаемый ответ:\n",
    "\n",
    "- Обработанный DataFrame.\n",
    "- Построенный график."
   ]
  },
  {
   "cell_type": "code",
   "execution_count": 163,
   "id": "5dc12e9e-2189-497d-8a6b-90f551583b27",
   "metadata": {},
   "outputs": [
    {
     "name": "stdout",
     "output_type": "stream",
     "text": [
      "Info:\n",
      "<class 'pandas.core.frame.DataFrame'>\n",
      "RangeIndex: 200 entries, 0 to 199\n",
      "Data columns (total 3 columns):\n",
      " #   Column  Non-Null Count  Dtype         \n",
      "---  ------  --------------  -----         \n",
      " 0   date    190 non-null    datetime64[ns]\n",
      " 1   sales   190 non-null    float64       \n",
      " 2   region  200 non-null    object        \n",
      "dtypes: datetime64[ns](1), float64(1), object(1)\n",
      "memory usage: 4.8+ KB\n",
      "None\n",
      "\n",
      "Данные:\n",
      "          date  sales region\n",
      "0   2024-12-01 -450.0   East\n",
      "1   2024-12-01  400.0   East\n",
      "2   2024-12-01 -100.0  South\n",
      "3   2024-12-01  350.0   West\n",
      "4   2024-12-02  400.0  South\n",
      "..         ...    ...    ...\n",
      "195        NaT  400.0   West\n",
      "196        NaT -150.0   West\n",
      "197        NaT -500.0  South\n",
      "198        NaT -350.0   East\n",
      "199        NaT  -50.0  North\n",
      "\n",
      "[200 rows x 3 columns]\n",
      "\n",
      "Голова:\n",
      "         date  sales region\n",
      "0  2024-12-01 -450.0   East\n",
      "1  2024-12-01  400.0   East\n",
      "2  2024-12-01 -100.0  South\n",
      "3  2024-12-01  350.0   West\n",
      "4  2024-12-02  400.0  South\n",
      "5  2024-12-02   50.0  North\n",
      "6  2024-12-02  250.0   West\n",
      "7  2024-12-02  -50.0  South\n",
      "8  2024-12-02 -250.0   West\n",
      "9  2024-12-02 -450.0  South\n",
      "10 2024-12-02 -250.0  North\n",
      "11 2024-12-02 -200.0  North\n",
      "12 2024-12-02 -200.0  South\n",
      "13 2024-12-02 -100.0  North\n",
      "14 2024-12-03 -150.0   East\n",
      "15 2024-12-03    NaN  South\n",
      "16 2024-12-03  100.0  South\n",
      "17 2024-12-03   50.0  South\n",
      "18 2024-12-03 -300.0   East\n",
      "19 2024-12-04 -450.0  North\n",
      "\n",
      "Хвост:\n",
      "          date  sales region\n",
      "180 2024-12-29  400.0  South\n",
      "181 2024-12-30 -200.0   East\n",
      "182 2024-12-30 -500.0  North\n",
      "183 2024-12-30    0.0   West\n",
      "184 2024-12-30  200.0  South\n",
      "185 2024-12-31 -100.0  South\n",
      "186 2024-12-31 -400.0   East\n",
      "187 2024-12-31  450.0   East\n",
      "188 2024-12-31  350.0  South\n",
      "189 2024-12-31  400.0   West\n",
      "190        NaT  150.0  South\n",
      "191        NaT -500.0   West\n",
      "192        NaT   50.0   West\n",
      "193        NaT  350.0  South\n",
      "194        NaT -350.0  South\n",
      "195        NaT  400.0   West\n",
      "196        NaT -150.0   West\n",
      "197        NaT -500.0  South\n",
      "198        NaT -350.0   East\n",
      "199        NaT  -50.0  North\n",
      "\n"
     ]
    }
   ],
   "source": [
    "# чтение файла\n",
    "df = pd.read_csv(\"sales_cleaning_large.csv\")\n",
    "\n",
    "# перевод даты в datetime\n",
    "df['date'] = pd.to_datetime(df['date'])\n",
    "\n",
    "print('Info:')\n",
    "print(df.info(), end='\\n\\n')\n",
    "print('Данные:')\n",
    "print(df, end='\\n\\n')\n",
    "print('Голова:')\n",
    "print(df.head(20), end='\\n\\n')\n",
    "print('Хвост:')\n",
    "print(df.tail(20), end='\\n\\n')"
   ]
  },
  {
   "cell_type": "markdown",
   "id": "cb21499d-5fe6-44f2-a045-f88d7a526c00",
   "metadata": {},
   "source": [
    "Из info видно, что столбец date имеет 10 null значений. При просмотре последних строк таблицы оказалось, что такие строки только в конце (как раз 10 штук).\n",
    "\n",
    "По списку строк возникает идея, что в данных есть все даты за декабрь 2024 (уже видно из головы и хвоста списка, что 1 и 31 декабря существуют в данных) и они идут в возрастающем порядке. Проверим это:"
   ]
  },
  {
   "cell_type": "code",
   "execution_count": 164,
   "id": "55ed3f40-d439-41e7-ac74-d9988f130f1b",
   "metadata": {},
   "outputs": [
    {
     "name": "stdout",
     "output_type": "stream",
     "text": [
      "Количество дат, что меньше предыдущей даты: 0\n",
      "Количество дат, что больше предыдущей даты больше чем на день: 0\n"
     ]
    }
   ],
   "source": [
    "# разницы между соседними значениями\n",
    "date_diff = df['date'][:-10].diff()\n",
    "print(f'Количество дат, что меньше предыдущей даты: {len(date_diff[date_diff < pd.Timedelta(0)])}')\n",
    "print(f'Количество дат, что больше предыдущей даты больше чем на день: {len(date_diff[date_diff > pd.Timedelta(days=1)])}')"
   ]
  },
  {
   "cell_type": "markdown",
   "id": "76f17c3f-60cb-4504-a5f5-0a079cb42828",
   "metadata": {},
   "source": [
    "Следовательно в данных представлены все числа декабря 2024 в возрастающем порядке. Делаем предположение, что данные должны быть представлены только за декабрь. Так как null значения находятся в конце, то задаем значения 31 декабря 2024"
   ]
  },
  {
   "cell_type": "code",
   "execution_count": 165,
   "id": "e9cb8c83-34c4-434d-a99b-3c1917ee0788",
   "metadata": {},
   "outputs": [
    {
     "name": "stdout",
     "output_type": "stream",
     "text": [
      "          date  sales region\n",
      "180 2024-12-29  400.0  South\n",
      "181 2024-12-30 -200.0   East\n",
      "182 2024-12-30 -500.0  North\n",
      "183 2024-12-30    0.0   West\n",
      "184 2024-12-30  200.0  South\n",
      "185 2024-12-31 -100.0  South\n",
      "186 2024-12-31 -400.0   East\n",
      "187 2024-12-31  450.0   East\n",
      "188 2024-12-31  350.0  South\n",
      "189 2024-12-31  400.0   West\n",
      "190 2024-12-31  150.0  South\n",
      "191 2024-12-31 -500.0   West\n",
      "192 2024-12-31   50.0   West\n",
      "193 2024-12-31  350.0  South\n",
      "194 2024-12-31 -350.0  South\n",
      "195 2024-12-31  400.0   West\n",
      "196 2024-12-31 -150.0   West\n",
      "197 2024-12-31 -500.0  South\n",
      "198 2024-12-31 -350.0   East\n",
      "199 2024-12-31  -50.0  North\n"
     ]
    }
   ],
   "source": [
    "# заполнение всех NaT значением 31 декабря 2024\n",
    "df['date'] = df['date'].fillna(pd.to_datetime('2024-12-31'))\n",
    "print(df.tail(20))"
   ]
  },
  {
   "cell_type": "markdown",
   "id": "081bf8b8-4698-4f1a-8d75-f4aa0c6fbbb2",
   "metadata": {},
   "source": [
    "Для принятия решения об удалении или замене отрицательных значений продаж на медиану, узнаем сколько отрицательных значений в данных:"
   ]
  },
  {
   "cell_type": "code",
   "execution_count": 166,
   "id": "994175b0-1291-43bc-a33c-d2ae35adf157",
   "metadata": {},
   "outputs": [
    {
     "name": "stdout",
     "output_type": "stream",
     "text": [
      "Количество отрицательных значений: 89\n",
      "Всего значений: 200\n"
     ]
    }
   ],
   "source": [
    "print(f\"Количество отрицательных значений: {len(df['sales'][df['sales'] < 0])}\")\n",
    "print(f\"Всего значений: {len(df['sales'])}\")"
   ]
  },
  {
   "cell_type": "markdown",
   "id": "f54800de-feb0-4441-a99a-d962e19accd3",
   "metadata": {},
   "source": [
    "Учитывая, что практически половина данных содержат отрицательные значения и мы не хотим эти данные терять - заменяем на медиану:"
   ]
  },
  {
   "cell_type": "code",
   "execution_count": 167,
   "id": "810eebc9-51fc-4773-8c64-2ebec9e1a732",
   "metadata": {},
   "outputs": [
    {
     "name": "stdout",
     "output_type": "stream",
     "text": [
      "          date  sales region\n",
      "0   2024-12-01  250.0   East\n",
      "1   2024-12-01  400.0   East\n",
      "2   2024-12-01  250.0  South\n",
      "3   2024-12-01  350.0   West\n",
      "4   2024-12-02  400.0  South\n",
      "..         ...    ...    ...\n",
      "195 2024-12-31  400.0   West\n",
      "196 2024-12-31  250.0   West\n",
      "197 2024-12-31  250.0  South\n",
      "198 2024-12-31  250.0   East\n",
      "199 2024-12-31  250.0  North\n",
      "\n",
      "[200 rows x 3 columns]\n"
     ]
    }
   ],
   "source": [
    "sales_median = df['sales'][df['sales'] > 0].median()\n",
    "df['sales'] = df['sales'].apply(lambda x: x if x >= 0 else sales_median)\n",
    "print(df)"
   ]
  },
  {
   "cell_type": "code",
   "execution_count": 168,
   "id": "1d7c10b0-05ac-40c2-873e-0bf27761387e",
   "metadata": {},
   "outputs": [
    {
     "data": {
      "image/png": "[encoded data removed]",
      "text/plain": [
       "<Figure size 1000x500 with 1 Axes>"
      ]
     },
     "metadata": {},
     "output_type": "display_data"
    }
   ],
   "source": [
    "# замена пропущенных значений sales на среднее\n",
    "df['sales'] = df['sales'].fillna(df['sales'].mean())\n",
    "\n",
    "# суммируем значения продаж всех регионов для каждой даты\n",
    "df_plot = df.groupby('date')['sales'].sum().reset_index()\n",
    "\n",
    "# Построение графика продаж по датам\n",
    "plt.figure(figsize=(10, 5))\n",
    "plt.plot(df_plot['date'], df_plot['sales'], marker='.', linestyle='-', label='Продажи', linewidth=0.5)\n",
    "plt.xlabel('Дата')\n",
    "plt.ylabel('Обьем продаж')\n",
    "plt.title('График продаж по датам')\n",
    "plt.xticks(rotation=45)\n",
    "plt.legend()\n",
    "plt.tight_layout()\n",
    "plt.show()"
   ]
  },
  {
   "cell_type": "markdown",
   "id": "55ffb422-1164-4719-8d79-c2de8d02d69e",
   "metadata": {},
   "source": [
    "# Задание 4: Получение данных из API\n",
    "\n",
    "Цель: Проверить способность работать с веб-данными.\n",
    "\n",
    "Задание:\n",
    "\n",
    "- Используйте открытое API (например, https://jsonplaceholder.typicode.com/users).\n",
    "- Загрузите данные и создайте DataFrame с полями: \n",
    "    - id, \n",
    "    - name, \n",
    "    - email, \n",
    "    - company_name.\n",
    "\n",
    "Выведите таблицу с пользователями, работающими в компаниях, название которых содержит слово \"Group\".\n",
    "\n",
    "Ожидаемый ответ:\n",
    "\n",
    "- DataFrame с результатами фильтрации."
   ]
  },
  {
   "cell_type": "code",
   "execution_count": 169,
   "id": "a55eb75b-9bb0-4131-aae0-29df0bfb5e2f",
   "metadata": {},
   "outputs": [
    {
     "data": {
      "text/html": [
       "<div>\n",
       "<style scoped>\n",
       "    .dataframe tbody tr th:only-of-type {\n",
       "        vertical-align: middle;\n",
       "    }\n",
       "\n",
       "    .dataframe tbody tr th {\n",
       "        vertical-align: top;\n",
       "    }\n",
       "\n",
       "    .dataframe thead th {\n",
       "        text-align: right;\n",
       "    }\n",
       "</style>\n",
       "<table border=\"1\" class=\"dataframe\">\n",
       "  <thead>\n",
       "    <tr style=\"text-align: right;\">\n",
       "      <th></th>\n",
       "      <th>id</th>\n",
       "      <th>name</th>\n",
       "      <th>email</th>\n",
       "      <th>company_name</th>\n",
       "    </tr>\n",
       "  </thead>\n",
       "  <tbody>\n",
       "    <tr>\n",
       "      <th>6</th>\n",
       "      <td>7</td>\n",
       "      <td>Kurtis Weissnat</td>\n",
       "      <td>Telly.Hoeger@billy.biz</td>\n",
       "      <td>Johns Group</td>\n",
       "    </tr>\n",
       "    <tr>\n",
       "      <th>7</th>\n",
       "      <td>8</td>\n",
       "      <td>Nicholas Runolfsdottir V</td>\n",
       "      <td>Sherwood@rosamond.me</td>\n",
       "      <td>Abernathy Group</td>\n",
       "    </tr>\n",
       "  </tbody>\n",
       "</table>\n",
       "</div>"
      ],
      "text/plain": [
       "   id                      name                   email     company_name\n",
       "6   7           Kurtis Weissnat  Telly.Hoeger@billy.biz      Johns Group\n",
       "7   8  Nicholas Runolfsdottir V    Sherwood@rosamond.me  Abernathy Group"
      ]
     },
     "metadata": {},
     "output_type": "display_data"
    }
   ],
   "source": [
    "# получение данных\n",
    "response = requests.get(\"https://jsonplaceholder.typicode.com/users\")\n",
    "if response.status_code != 200:\n",
    "    print(\"Не удалось загрузить данные.\")\n",
    "    raise KeyboardInterrupt\n",
    "    \n",
    "# создание датафрейма\n",
    "df = pd.DataFrame([\n",
    "    {\n",
    "        \"id\": user[\"id\"],\n",
    "        \"name\": user[\"name\"],\n",
    "        \"email\": user[\"email\"],\n",
    "        \"company_name\": user[\"company\"][\"name\"]\n",
    "    } for user in response.json()\n",
    "])\n",
    "# выбор пользователей, компании которых содержат слово \"Group\".\n",
    "filtered_users = df[df['company_name'].str.contains(\"Group\", case=False)]\n",
    "\n",
    "display(filtered_users)"
   ]
  }
 ],
 "metadata": {
  "kernelspec": {
   "display_name": "Python 3 (ipykernel)",
   "language": "python",
   "name": "python3"
  },
  "language_info": {
   "codemirror_mode": {
    "name": "ipython",
    "version": 3
   },
   "file_extension": ".py",
   "mimetype": "text/x-python",
   "name": "python",
   "nbconvert_exporter": "python",
   "pygments_lexer": "ipython3",
   "version": "3.9.21"
  }
 },
 "nbformat": 4,
 "nbformat_minor": 5
}
