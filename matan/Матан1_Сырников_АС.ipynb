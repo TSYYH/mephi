{
 "cells": [
  {
   "cell_type": "code",
   "execution_count": 10,
   "id": "3b89ec14-efc7-4d81-a65a-9a9262c0c39f",
   "metadata": {},
   "outputs": [],
   "source": [
    "import sympy as sp\n",
    "import numpy as np\n",
    "import pandas as pd\n",
    "from sklearn.preprocessing import StandardScaler\n",
    "from sklearn.linear_model import LinearRegression"
   ]
  },
  {
   "cell_type": "markdown",
   "id": "0dee24c0-e9bf-427b-9b04-43e4c8220228",
   "metadata": {
    "id": "0dee24c0-e9bf-427b-9b04-43e4c8220228"
   },
   "source": [
    "# Домашнее задание"
   ]
  },
  {
   "cell_type": "markdown",
   "id": "feafcfd9-2d32-4682-bcd0-07a0c9bbd32c",
   "metadata": {
    "id": "feafcfd9-2d32-4682-bcd0-07a0c9bbd32c"
   },
   "source": [
    "Математический анализ\n",
    "69 баллов"
   ]
  },
  {
   "cell_type": "markdown",
   "id": "b2345ed9-1018-4084-9636-7e7b92bd6c64",
   "metadata": {
    "id": "b2345ed9-1018-4084-9636-7e7b92bd6c64"
   },
   "source": [
    "**Задача 1** (14 баллов)\n",
    "\n",
    "Найдите экстремумы функции:"
   ]
  },
  {
   "cell_type": "markdown",
   "id": "e25e75bf-9d1e-4511-8846-8bfe99ae17f8",
   "metadata": {
    "id": "e25e75bf-9d1e-4511-8846-8bfe99ae17f8"
   },
   "source": [
    "$$\n",
    "f(x, y, z)=2 x^3+2 x y+2 x z+y^2+z^2+2 y-8 .\n",
    "$$"
   ]
  },
  {
   "cell_type": "markdown",
   "id": "ce92b07d-f19e-4f72-ab80-d04d0bae9984",
   "metadata": {
    "id": "ce92b07d-f19e-4f72-ab80-d04d0bae9984"
   },
   "source": [
    "Распишите подробное решение."
   ]
  },
  {
   "cell_type": "code",
   "execution_count": 11,
   "id": "0eddb54d-58f6-47ed-bef4-cb262d500cbe",
   "metadata": {
    "id": "0eddb54d-58f6-47ed-bef4-cb262d500cbe"
   },
   "outputs": [
    {
     "name": "stdout",
     "output_type": "stream",
     "text": [
      "Частные производные:\n",
      "df/dx = 6*x**2 + 2*y + 2*z\n",
      "df/dy = 2*x + 2*y + 2\n",
      "df/dz = 2*x + 2*z\n",
      "\n",
      "Система уравнений:\n",
      "Eq(6*x**2 + 2*y + 2*z, 0)\n",
      "Eq(2*x + 2*y + 2, 0)\n",
      "Eq(2*x + 2*z, 0)\n",
      "\n",
      "Решения (x, y, z):\n",
      "(-1/3, -2/3, 1/3)\n",
      "(1, -2, -1)\n",
      "Производные второго порядка:\n",
      "df/dxdx = 12*x\n",
      "df/dydy = 2\n",
      "df/dzdz = 2\n",
      "df/dxdy = 2\n",
      "df/dxdz = 2\n",
      "df/dydz = 0\n"
     ]
    }
   ],
   "source": [
    "# переменные\n",
    "x, y, z = sp.symbols('x, y, z')\n",
    "\n",
    "# функция\n",
    "f = 2 * x**3 + 2 * x * y + 2 * x * z + y**2 + z**2 + 2 * y - 8\n",
    "\n",
    "# частные производные\n",
    "df_dx = f.diff(x)\n",
    "df_dy = f.diff(y)\n",
    "df_dz = f.diff(z)\n",
    "\n",
    "print(\"Частные производные:\")\n",
    "print(f\"df/dx = {df_dx}\")\n",
    "print(f\"df/dy = {df_dy}\")\n",
    "print(f\"df/dz = {df_dz}\")\n",
    "\n",
    "#система уравнений (производные = 0)\n",
    "eq = [sp.Eq(df_dx, 0), sp.Eq(df_dy, 0), sp.Eq(df_dz, 0)]\n",
    "print('\\nСистема уравнений:', *eq, sep='\\n')\n",
    "\n",
    "# приравнивание производных к 0 и решение системы\n",
    "solutions = sp.solve(eq, [x, y, z])\n",
    "print('\\nРешения (x, y, z):', *solutions, sep='\\n')\n",
    "\n",
    "# анализ второго порядка\n",
    "df_dxdx = df_dx.diff(x)\n",
    "df_dydy = df_dy.diff(y)\n",
    "df_dzdz = df_dz.diff(z)\n",
    "df_dxdy = df_dx.diff(y)\n",
    "df_dxdz = df_dx.diff(z)\n",
    "df_dydz = df_dy.diff(z)\n",
    "\n",
    "print(\"Производные второго порядка:\")\n",
    "print(f\"df/dxdx = {df_dxdx}\")\n",
    "print(f\"df/dydy = {df_dydy}\")\n",
    "print(f\"df/dzdz = {df_dzdz}\")\n",
    "print(f\"df/dxdy = {df_dxdy}\")\n",
    "print(f\"df/dxdz = {df_dxdz}\")\n",
    "print(f\"df/dydz = {df_dydz}\")"
   ]
  },
  {
   "cell_type": "code",
   "execution_count": 12,
   "id": "6d430e6d-ddf0-489a-8ab4-f1b330400685",
   "metadata": {},
   "outputs": [
    {
     "name": "stdout",
     "output_type": "stream",
     "text": [
      "Седловая точка в точке (-1/3, -2/3, 1/3)\n",
      "Минимум в точке (1, -2, -1)\n"
     ]
    }
   ],
   "source": [
    "# функция для вычисления матрицы Гессе (только x т.к. только он остался в прозводных второго порядка)\n",
    "def find_hesse(x):\n",
    "    return np.array([\n",
    "        [12 * x, 2, 2],\n",
    "        [2, 2, 0],\n",
    "        [2, 0, 2]\n",
    "    ], dtype=float)\n",
    "\n",
    "# проверка экстремумов\n",
    "for point in solutions:\n",
    "    x = point[0]\n",
    "    # счет матрицы Гессе для x\n",
    "    hesse = find_hesse(x)\n",
    "    # определитель\n",
    "    hesse_det = np.linalg.det(hesse)\n",
    "    # собственные числа\n",
    "    eig = np.linalg.eigvals(hesse)\n",
    "\n",
    "    # определение типа экстремума\n",
    "    if hesse_det > 0 and eig.all() > 0:\n",
    "        print(f'Минимум в точке {point}')\n",
    "    elif hesse_det > 0 and eig.all() < 0:\n",
    "        print(f'Максимум в точке {point}')\n",
    "    elif hesse_det < 0:\n",
    "        print(f'Седловая точка в точке {point}')\n",
    "    else:\n",
    "        print(f'{point} не является точкой экстремума')"
   ]
  },
  {
   "cell_type": "markdown",
   "id": "b38584b7-0da5-4858-9422-ff5bc2b3854f",
   "metadata": {
    "id": "b38584b7-0da5-4858-9422-ff5bc2b3854f"
   },
   "source": [
    "**Задача 2** (25 баллов)\n",
    "\n",
    "Найдите условные экстремумы функции:"
   ]
  },
  {
   "cell_type": "markdown",
   "id": "b36ed820-965b-484d-baab-b2cafebe7479",
   "metadata": {
    "id": "b36ed820-965b-484d-baab-b2cafebe7479"
   },
   "source": [
    "$$\n",
    "f(x, y)=4 x+8 y, y^2-2 x y+5=0\n",
    "$$"
   ]
  },
  {
   "cell_type": "markdown",
   "id": "2ce1c6f1-d126-4368-a63e-2bbbefffd542",
   "metadata": {
    "id": "2ce1c6f1-d126-4368-a63e-2bbbefffd542"
   },
   "source": [
    "Вычислите результат самостоятельно (вручную) и с помощью Python. Сравните результаты."
   ]
  },
  {
   "cell_type": "markdown",
   "id": "21bb7b99-96b2-4475-9390-171e6a96f73a",
   "metadata": {},
   "source": [
    "Функция Лагранжа:\n",
    "$\\mathcal{L}(x, y, \\lambda) = 4x + 8y + \\lambda (y^2 - 2xy + 5)$\n",
    "\n",
    "Уравнения Лагранжа:\n",
    "\n",
    "$\\frac{\\partial \\mathcal{L}}{\\partial x} = 4 - 2\\lambda y = 0$\n",
    "\n",
    "$\\frac{\\partial \\mathcal{L}}{\\partial y} = 8 + 2\\lambda y - 2\\lambda x = 0$\n",
    "\n",
    "$\\frac{\\partial \\mathcal{L}}{\\partial \\lambda} = y^2 - 2xy + 5 = 0$\n",
    "\n",
    "Решение системы:\n",
    "\n",
    "1. Из первого уравнения:\n",
    "   $\\lambda = \\frac{2}{y}$\n",
    "\n",
    "2. Подставим $\\lambda$ во второе уравнение:\n",
    "   $8 + 2\\left(\\frac{2}{y}\\right)(y - x) = 0$\n",
    "\n",
    "   Упростим:\n",
    "   $8 + \\frac{4(y - x)}{y} = 0$\n",
    "\n",
    "   \n",
    "   Умножим на $y$ и раскроем скобки:\n",
    "   $8y + 4y - 4x = 0 \\implies x = 3y$\n",
    "\n",
    "4. Подставим $x = 3y$ в ограничение:\n",
    " \n",
    "   $y^2 - 2(3y)y + 5 = 0$\n",
    "\n",
    "   $y^2 - 6y^2 + 5 = 0$\n",
    "\n",
    "   \n",
    "   $-5y^2 + 5 = 0 \\implies y^2 = 1 \\implies y = \\pm 1$\n",
    "\n",
    "6. Найдём $x$:\n",
    "   - $y = 1 \\implies x = 3 \\cdot 1 = 3$\n",
    "   - $y = -1\\implies x = 3 \\cdot (-1) = -3$\n",
    "\n",
    "Ответ: точки условного экстремума: (3, 1), (-3, -1)\n"
   ]
  },
  {
   "cell_type": "code",
   "execution_count": 13,
   "id": "818929f6-c478-49ad-997e-536d3c4f7f33",
   "metadata": {
    "id": "818929f6-c478-49ad-997e-536d3c4f7f33"
   },
   "outputs": [
    {
     "name": "stdout",
     "output_type": "stream",
     "text": [
      "Точки условного экстремума: (-3, -1) и (3, 1)\n"
     ]
    }
   ],
   "source": [
    "# переменные\n",
    "x, y, l = sp.symbols('x, y, l')\n",
    "\n",
    "# функция\n",
    "f = 4 * x + 8 * y\n",
    "\n",
    "# функция ограничений\n",
    "f_c = y**2 - 2 * x * y + 5\n",
    "\n",
    "# функция Лагранжа\n",
    "L = f + l*f_c\n",
    "\n",
    "# частные производные по трем переменным\n",
    "L_dx = L.diff(x)\n",
    "L_dy = L.diff(y)\n",
    "L_dl = L.diff(l)\n",
    "\n",
    "# приравниваем функции частных производных к 0 и решаем систему уравнений \n",
    "points = sp.solve([L_dx, L_dy, L_dl], [x, y, l])\n",
    "print(f'Точки условного экстремума: {points[0][:-1]} и {points[1][:-1]}')"
   ]
  },
  {
   "cell_type": "markdown",
   "id": "95b572d3-70d8-44cb-80b2-53f496969bff",
   "metadata": {},
   "source": [
    "Решение вручную и прогаммно дало одинаковый результат: точками условного экстремума являются (3, 1) и (-3, -1)"
   ]
  },
  {
   "cell_type": "markdown",
   "id": "818083c3-7318-4669-bb15-5a8a48ef543d",
   "metadata": {
    "id": "818083c3-7318-4669-bb15-5a8a48ef543d"
   },
   "source": [
    "**Задача 3** (30 баллов)\n",
    "\n",
    "Вам предложены данные с информацией о успеваемости студентов:\n",
    "\n",
    "Независимые переменные:\n",
    "* Hours Studied: Общее количество часов, потраченных на учебу каждым студентом.\n",
    "* Previous Scores: Баллы, полученные студентами на предыдущих экзаменах.\n",
    "* Sleep Hours: Среднее количество часов сна студента в сутки.\n",
    "* Sample Question Papers Practiced: Количество пробных экзаменационных работ, с которыми студент занимался.\n",
    "  \n",
    "Целевая переменная:\n",
    "* Performance Index: Показатель общей успеваемости каждого студента. Индекс успеваемости отражает академическую успеваемость студента и округляется до ближайшего целого числа. Индекс варьируется от 10 до 100, при этом более высокие значения свидетельствуют о более высокой успеваемости."
   ]
  },
  {
   "cell_type": "markdown",
   "id": "f65c2300-43b2-4c43-b762-1e20d29ae889",
   "metadata": {
    "id": "f65c2300-43b2-4c43-b762-1e20d29ae889"
   },
   "source": [
    "**Решите задачу линейной регрессии, реализовав градиентный спуск самостоятельно, не используя готовое решение из какой-либо библиотеки.**"
   ]
  },
  {
   "cell_type": "code",
   "execution_count": 14,
   "id": "3900c065-fb9b-45bf-bc1f-a9c9d0ab5c20",
   "metadata": {
    "id": "3900c065-fb9b-45bf-bc1f-a9c9d0ab5c20"
   },
   "outputs": [
    {
     "data": {
      "text/html": [
       "<div>\n",
       "<style scoped>\n",
       "    .dataframe tbody tr th:only-of-type {\n",
       "        vertical-align: middle;\n",
       "    }\n",
       "\n",
       "    .dataframe tbody tr th {\n",
       "        vertical-align: top;\n",
       "    }\n",
       "\n",
       "    .dataframe thead th {\n",
       "        text-align: right;\n",
       "    }\n",
       "</style>\n",
       "<table border=\"1\" class=\"dataframe\">\n",
       "  <thead>\n",
       "    <tr style=\"text-align: right;\">\n",
       "      <th></th>\n",
       "      <th>Hours Studied</th>\n",
       "      <th>Previous Scores</th>\n",
       "      <th>Sleep Hours</th>\n",
       "      <th>Sample Question Papers Practiced</th>\n",
       "      <th>Performance Index</th>\n",
       "    </tr>\n",
       "  </thead>\n",
       "  <tbody>\n",
       "    <tr>\n",
       "      <th>count</th>\n",
       "      <td>10000.000000</td>\n",
       "      <td>10000.000000</td>\n",
       "      <td>10000.000000</td>\n",
       "      <td>10000.000000</td>\n",
       "      <td>10000.000000</td>\n",
       "    </tr>\n",
       "    <tr>\n",
       "      <th>mean</th>\n",
       "      <td>4.992900</td>\n",
       "      <td>69.445700</td>\n",
       "      <td>6.530600</td>\n",
       "      <td>4.583300</td>\n",
       "      <td>55.224800</td>\n",
       "    </tr>\n",
       "    <tr>\n",
       "      <th>std</th>\n",
       "      <td>2.589309</td>\n",
       "      <td>17.343152</td>\n",
       "      <td>1.695863</td>\n",
       "      <td>2.867348</td>\n",
       "      <td>19.212558</td>\n",
       "    </tr>\n",
       "    <tr>\n",
       "      <th>min</th>\n",
       "      <td>1.000000</td>\n",
       "      <td>40.000000</td>\n",
       "      <td>4.000000</td>\n",
       "      <td>0.000000</td>\n",
       "      <td>10.000000</td>\n",
       "    </tr>\n",
       "    <tr>\n",
       "      <th>25%</th>\n",
       "      <td>3.000000</td>\n",
       "      <td>54.000000</td>\n",
       "      <td>5.000000</td>\n",
       "      <td>2.000000</td>\n",
       "      <td>40.000000</td>\n",
       "    </tr>\n",
       "    <tr>\n",
       "      <th>50%</th>\n",
       "      <td>5.000000</td>\n",
       "      <td>69.000000</td>\n",
       "      <td>7.000000</td>\n",
       "      <td>5.000000</td>\n",
       "      <td>55.000000</td>\n",
       "    </tr>\n",
       "    <tr>\n",
       "      <th>75%</th>\n",
       "      <td>7.000000</td>\n",
       "      <td>85.000000</td>\n",
       "      <td>8.000000</td>\n",
       "      <td>7.000000</td>\n",
       "      <td>71.000000</td>\n",
       "    </tr>\n",
       "    <tr>\n",
       "      <th>max</th>\n",
       "      <td>9.000000</td>\n",
       "      <td>99.000000</td>\n",
       "      <td>9.000000</td>\n",
       "      <td>9.000000</td>\n",
       "      <td>100.000000</td>\n",
       "    </tr>\n",
       "  </tbody>\n",
       "</table>\n",
       "</div>"
      ],
      "text/plain": [
       "       Hours Studied  Previous Scores   Sleep Hours  \\\n",
       "count   10000.000000     10000.000000  10000.000000   \n",
       "mean        4.992900        69.445700      6.530600   \n",
       "std         2.589309        17.343152      1.695863   \n",
       "min         1.000000        40.000000      4.000000   \n",
       "25%         3.000000        54.000000      5.000000   \n",
       "50%         5.000000        69.000000      7.000000   \n",
       "75%         7.000000        85.000000      8.000000   \n",
       "max         9.000000        99.000000      9.000000   \n",
       "\n",
       "       Sample Question Papers Practiced  Performance Index  \n",
       "count                      10000.000000       10000.000000  \n",
       "mean                           4.583300          55.224800  \n",
       "std                            2.867348          19.212558  \n",
       "min                            0.000000          10.000000  \n",
       "25%                            2.000000          40.000000  \n",
       "50%                            5.000000          55.000000  \n",
       "75%                            7.000000          71.000000  \n",
       "max                            9.000000         100.000000  "
      ]
     },
     "metadata": {},
     "output_type": "display_data"
    },
    {
     "name": "stdout",
     "output_type": "stream",
     "text": [
      "<class 'pandas.core.frame.DataFrame'>\n",
      "RangeIndex: 10000 entries, 0 to 9999\n",
      "Data columns (total 5 columns):\n",
      " #   Column                            Non-Null Count  Dtype  \n",
      "---  ------                            --------------  -----  \n",
      " 0   Hours Studied                     10000 non-null  int64  \n",
      " 1   Previous Scores                   10000 non-null  int64  \n",
      " 2   Sleep Hours                       10000 non-null  int64  \n",
      " 3   Sample Question Papers Practiced  10000 non-null  int64  \n",
      " 4   Performance Index                 10000 non-null  float64\n",
      "dtypes: float64(1), int64(4)\n",
      "memory usage: 390.8 KB\n"
     ]
    },
    {
     "data": {
      "text/plain": [
       "None"
      ]
     },
     "metadata": {},
     "output_type": "display_data"
    }
   ],
   "source": [
    "data = pd.read_csv('Student_Performance.csv')\n",
    "# удаление не указанного в задании столбца\n",
    "data.drop('Extracurricular Activities', axis=1, inplace=True)\n",
    "\n",
    "# количество наблюдений\n",
    "n = data.shape[0]\n",
    "\n",
    "display(data.describe())\n",
    "display(data.info())"
   ]
  },
  {
   "cell_type": "markdown",
   "id": "afe5518a-a01c-41b8-abc3-57230a51fbac",
   "metadata": {},
   "source": [
    "1. В данных отсутствуют пропуски\n",
    "2. Один из признаков имеет тип с плавающей точкой, тогда как остальные - целые\n",
    "3. Все признаки числовые"
   ]
  },
  {
   "cell_type": "code",
   "execution_count": 15,
   "id": "9e497bd0-0693-494f-bec5-b3926eab718a",
   "metadata": {},
   "outputs": [
    {
     "name": "stdout",
     "output_type": "stream",
     "text": [
      "[[55.224]\n",
      " [ 7.388]\n",
      " [17.664]\n",
      " [ 0.808]\n",
      " [ 0.56 ]]\n"
     ]
    }
   ],
   "source": [
    "# признаки\n",
    "X = data[['Hours Studied', 'Previous Scores', 'Sleep Hours', 'Sample Question Papers Practiced']].values.reshape(n, 4)\n",
    "# целевой вектор\n",
    "y = data['Performance Index'].values.reshape(n, 1)\n",
    "\n",
    "# стандартизация признаков\n",
    "scaler = StandardScaler()\n",
    "X = scaler.fit_transform(X)\n",
    "\n",
    "# добавление интерцепта\n",
    "X = np.append(np.ones((n, 1)), X, axis = 1)\n",
    "\n",
    "# начальный вектор коэффициентов\n",
    "w = np.zeros((5,1))\n",
    "\n",
    "# функция потерь\n",
    "def cost_function(X, y , par):\n",
    "    y_pred = X @ par\n",
    "    error = (y_pred - y)**2\n",
    "    cost = 1 / n * np.sum(error)\n",
    "    return cost\n",
    "    \n",
    "# градиентный спуск\n",
    "def grad_d(X, y, par, alpha, iterations, eps=0.001):\n",
    "    costs = []\n",
    "    for i in range(iterations):\n",
    "        y_pred = X @ par\n",
    "        der = np.dot(X.transpose(), (y_pred - y)) / n\n",
    "        par -= alpha * der\n",
    "        costs.append(cost_function(X, y, par))\n",
    "        if np.linalg.norm(der) < eps:\n",
    "            break\n",
    "    return par, costs\n",
    "    \n",
    "# вычисление коэффициентов регрессии\n",
    "w, costs = grad_d(X,y, w, 0.00005, 500000)\n",
    "print(w.round(3))"
   ]
  },
  {
   "cell_type": "code",
   "execution_count": 16,
   "id": "2599b4f3-9094-418b-b6d4-6915eef21e61",
   "metadata": {},
   "outputs": [],
   "source": [
    "# предсказание с коэффициентами регрессии\n",
    "y_pred = X @ w\n",
    "# ошибка предсказания\n",
    "mape = np.mean(abs(y-y_pred) / y)"
   ]
  },
  {
   "cell_type": "code",
   "execution_count": 17,
   "id": "74a72e0a-1b7f-413f-b736-52c47afd44f1",
   "metadata": {},
   "outputs": [],
   "source": [
    "# использование sklearn\n",
    "# создание модели\n",
    "model = LinearRegression()\n",
    "# вычисление коэффициентов sklearn\n",
    "model.fit(X,y)\n",
    "# предсказание sklearn\n",
    "y_pred_skl = model.predict(X)\n",
    "# ошибка предсказания sklearn\n",
    "mape_skl = np.mean(abs(y-y_pred) / y)"
   ]
  },
  {
   "cell_type": "code",
   "execution_count": 18,
   "id": "edaa83c1-f412-495d-9526-174d9ec4ab76",
   "metadata": {},
   "outputs": [
    {
     "name": "stdout",
     "output_type": "stream",
     "text": [
      "            index Коэффициент 0 Коэффициент 1 Коэффициент 2 Коэффициент 3 Коэффициент 4   MAPE\n",
      "Ручная реализация      [55.224]       [7.388]      [17.664]       [0.808]        [0.56]  0.035\n",
      "          sklearn      [55.225]         7.388        17.665         0.808          0.56  0.035\n"
     ]
    }
   ],
   "source": [
    "# создадим справочник из данных полученных с помощью ручной реализации и с помощью библиотеки sklearn\n",
    "dict = {\n",
    "    'Параметр': ['Коэффициент 0', 'Коэффициент 1', 'Коэффициент 2', 'Коэффициент 3', 'Коэффициент 4', 'MAPE'],\n",
    "    'Ручная реализация': [\n",
    "        np.round(w[0], 3), \n",
    "        np.round(w[1], 3), \n",
    "        np.round(w[2], 3), \n",
    "        np.round(w[3], 3), \n",
    "        np.round(w[4], 3), \n",
    "        np.round(mape, 3)\n",
    "    ],\n",
    "    'sklearn': [\n",
    "        np.round(model.intercept_, 3), \n",
    "        np.round(model.coef_[0,1], 3), \n",
    "        np.round(model.coef_[0,2], 3), \n",
    "        np.round(model.coef_[0,3], 3), \n",
    "        np.round(model.coef_[0,4], 3), \n",
    "        np.round(mape_skl, 3)\n",
    "    ]\n",
    "}\n",
    "# на основе справочника создадим датафрейм\n",
    "df = pd.DataFrame(dict).set_index('Параметр').T.reset_index()\n",
    "print(df.to_string(index=False))"
   ]
  },
  {
   "cell_type": "markdown",
   "id": "6e326373-d9be-4cd9-84c6-e54a40f09ae9",
   "metadata": {},
   "source": [
    "Коэффициенты идентичны (c точностью 1e-3). Ошибка MAPE = 3.5% довольно низкая, а значит модель довольно точная"
   ]
  }
 ],
 "metadata": {
  "colab": {
   "provenance": []
  },
  "kernelspec": {
   "display_name": "Python 3 (ipykernel)",
   "language": "python",
   "name": "python3"
  },
  "language_info": {
   "codemirror_mode": {
    "name": "ipython",
    "version": 3
   },
   "file_extension": ".py",
   "mimetype": "text/x-python",
   "name": "python",
   "nbconvert_exporter": "python",
   "pygments_lexer": "ipython3",
   "version": "3.9.21"
  }
 },
 "nbformat": 4,
 "nbformat_minor": 5
}
