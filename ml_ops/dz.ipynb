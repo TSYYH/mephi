{
 "cells": [
  {
   "cell_type": "markdown",
   "id": "493dba8f",
   "metadata": {},
   "source": [
    "Импорт библиотек"
   ]
  },
  {
   "cell_type": "code",
   "execution_count": 117,
   "id": "8c8092cb",
   "metadata": {},
   "outputs": [],
   "source": [
    "import pandas as pd\n",
    "import numpy as np\n",
    "import matplotlib.pyplot as plt\n",
    "import seaborn as sns\n",
    "from scipy import stats"
   ]
  },
  {
   "cell_type": "markdown",
   "id": "791e5cc2",
   "metadata": {},
   "source": [
    "# Анализ структуры данных и их предобработка"
   ]
  },
  {
   "cell_type": "markdown",
   "id": "30f88464",
   "metadata": {},
   "source": [
    "Чтение датасета"
   ]
  },
  {
   "cell_type": "code",
   "execution_count": 118,
   "id": "bcc68eb0",
   "metadata": {},
   "outputs": [
    {
     "data": {
      "text/html": [
       "<div>\n",
       "<style scoped>\n",
       "    .dataframe tbody tr th:only-of-type {\n",
       "        vertical-align: middle;\n",
       "    }\n",
       "\n",
       "    .dataframe tbody tr th {\n",
       "        vertical-align: top;\n",
       "    }\n",
       "\n",
       "    .dataframe thead th {\n",
       "        text-align: right;\n",
       "    }\n",
       "</style>\n",
       "<table border=\"1\" class=\"dataframe\">\n",
       "  <thead>\n",
       "    <tr style=\"text-align: right;\">\n",
       "      <th></th>\n",
       "      <th>Unnamed: 0</th>\n",
       "      <th>user id</th>\n",
       "      <th>test group</th>\n",
       "      <th>converted</th>\n",
       "      <th>total ads</th>\n",
       "      <th>most ads day</th>\n",
       "      <th>most ads hour</th>\n",
       "    </tr>\n",
       "  </thead>\n",
       "  <tbody>\n",
       "    <tr>\n",
       "      <th>0</th>\n",
       "      <td>0</td>\n",
       "      <td>1069124</td>\n",
       "      <td>ad</td>\n",
       "      <td>False</td>\n",
       "      <td>130</td>\n",
       "      <td>Monday</td>\n",
       "      <td>20</td>\n",
       "    </tr>\n",
       "    <tr>\n",
       "      <th>1</th>\n",
       "      <td>1</td>\n",
       "      <td>1119715</td>\n",
       "      <td>ad</td>\n",
       "      <td>False</td>\n",
       "      <td>93</td>\n",
       "      <td>Tuesday</td>\n",
       "      <td>22</td>\n",
       "    </tr>\n",
       "    <tr>\n",
       "      <th>2</th>\n",
       "      <td>2</td>\n",
       "      <td>1144181</td>\n",
       "      <td>ad</td>\n",
       "      <td>False</td>\n",
       "      <td>21</td>\n",
       "      <td>Tuesday</td>\n",
       "      <td>18</td>\n",
       "    </tr>\n",
       "    <tr>\n",
       "      <th>3</th>\n",
       "      <td>3</td>\n",
       "      <td>1435133</td>\n",
       "      <td>ad</td>\n",
       "      <td>False</td>\n",
       "      <td>355</td>\n",
       "      <td>Tuesday</td>\n",
       "      <td>10</td>\n",
       "    </tr>\n",
       "    <tr>\n",
       "      <th>4</th>\n",
       "      <td>4</td>\n",
       "      <td>1015700</td>\n",
       "      <td>ad</td>\n",
       "      <td>False</td>\n",
       "      <td>276</td>\n",
       "      <td>Friday</td>\n",
       "      <td>14</td>\n",
       "    </tr>\n",
       "  </tbody>\n",
       "</table>\n",
       "</div>"
      ],
      "text/plain": [
       "   Unnamed: 0  user id test group  converted  total ads most ads day  \\\n",
       "0           0  1069124         ad      False        130       Monday   \n",
       "1           1  1119715         ad      False         93      Tuesday   \n",
       "2           2  1144181         ad      False         21      Tuesday   \n",
       "3           3  1435133         ad      False        355      Tuesday   \n",
       "4           4  1015700         ad      False        276       Friday   \n",
       "\n",
       "   most ads hour  \n",
       "0             20  \n",
       "1             22  \n",
       "2             18  \n",
       "3             10  \n",
       "4             14  "
      ]
     },
     "execution_count": 118,
     "metadata": {},
     "output_type": "execute_result"
    }
   ],
   "source": [
    "df = pd.read_csv('sem2/ml_ops/marketing_AB.csv')\n",
    "df.head()"
   ]
  },
  {
   "cell_type": "code",
   "execution_count": 119,
   "id": "da03ab9b",
   "metadata": {},
   "outputs": [
    {
     "name": "stdout",
     "output_type": "stream",
     "text": [
      "<class 'pandas.core.frame.DataFrame'>\n",
      "RangeIndex: 588101 entries, 0 to 588100\n",
      "Data columns (total 7 columns):\n",
      " #   Column         Non-Null Count   Dtype \n",
      "---  ------         --------------   ----- \n",
      " 0   Unnamed: 0     588101 non-null  int64 \n",
      " 1   user id        588101 non-null  int64 \n",
      " 2   test group     588101 non-null  object\n",
      " 3   converted      588101 non-null  bool  \n",
      " 4   total ads      588101 non-null  int64 \n",
      " 5   most ads day   588101 non-null  object\n",
      " 6   most ads hour  588101 non-null  int64 \n",
      "dtypes: bool(1), int64(4), object(2)\n",
      "memory usage: 27.5+ MB\n"
     ]
    }
   ],
   "source": [
    "df.info()"
   ]
  },
  {
   "cell_type": "markdown",
   "id": "f09d701e",
   "metadata": {},
   "source": [
    "В данных отсутствуют пропуски. Присутствуют признаки типов bool(1), int64(4), object(2). Признак Unnamed: 0 похож на индекс, проверим:"
   ]
  },
  {
   "cell_type": "code",
   "execution_count": 120,
   "id": "f51bbdea",
   "metadata": {},
   "outputs": [
    {
     "data": {
      "text/plain": [
       "np.True_"
      ]
     },
     "execution_count": 120,
     "metadata": {},
     "output_type": "execute_result"
    }
   ],
   "source": [
    "(df['Unnamed: 0'].values == range(len(df))).all()"
   ]
  },
  {
   "cell_type": "markdown",
   "id": "d0f864b3",
   "metadata": {},
   "source": [
    "Верно, можно удалить этот признак. Также преобразуем строковые типы в категориальные, а булевый в числовой"
   ]
  },
  {
   "cell_type": "code",
   "execution_count": 121,
   "id": "7d596c7e",
   "metadata": {},
   "outputs": [
    {
     "name": "stdout",
     "output_type": "stream",
     "text": [
      "<class 'pandas.core.frame.DataFrame'>\n",
      "RangeIndex: 588101 entries, 0 to 588100\n",
      "Data columns (total 6 columns):\n",
      " #   Column         Non-Null Count   Dtype   \n",
      "---  ------         --------------   -----   \n",
      " 0   user id        588101 non-null  int64   \n",
      " 1   test group     588101 non-null  category\n",
      " 2   converted      588101 non-null  int64   \n",
      " 3   total ads      588101 non-null  int64   \n",
      " 4   most ads day   588101 non-null  category\n",
      " 5   most ads hour  588101 non-null  int64   \n",
      "dtypes: category(2), int64(4)\n",
      "memory usage: 19.1 MB\n"
     ]
    }
   ],
   "source": [
    "df = df.drop('Unnamed: 0', axis=1)\n",
    "df['test group'] = df['test group'].astype('category')\n",
    "df['most ads day'] = df['most ads day'].astype('category')\n",
    "df['converted'] = df['converted'].astype(int)\n",
    "df.info()"
   ]
  },
  {
   "cell_type": "markdown",
   "id": "47b57b2c",
   "metadata": {},
   "source": [
    "Проверим наличие пользователей которые попали в обе группы"
   ]
  },
  {
   "cell_type": "code",
   "execution_count": 122,
   "id": "ab1e728d",
   "metadata": {},
   "outputs": [
    {
     "data": {
      "text/plain": [
       "Series([], Name: test group, dtype: int64)"
      ]
     },
     "execution_count": 122,
     "metadata": {},
     "output_type": "execute_result"
    }
   ],
   "source": [
    "users_with_multiple_groups = df.groupby('user id')['test group'].nunique()\n",
    "users_with_multiple_groups[users_with_multiple_groups > 1]"
   ]
  },
  {
   "cell_type": "markdown",
   "id": "0c28aa95",
   "metadata": {},
   "source": [
    "Таких пользователей нет, оставляем все как есть"
   ]
  },
  {
   "cell_type": "markdown",
   "id": "1e421c43",
   "metadata": {},
   "source": [
    "# Первичный анализ результатов A/B-тестирования"
   ]
  },
  {
   "cell_type": "markdown",
   "id": "d8830dd0",
   "metadata": {},
   "source": [
    "Посчитаем количество посещений сайта и суммарное количество совершённых покупок по группам"
   ]
  },
  {
   "cell_type": "code",
   "execution_count": 123,
   "id": "1d5b17a3",
   "metadata": {},
   "outputs": [
    {
     "name": "stderr",
     "output_type": "stream",
     "text": [
      "C:\\Users\\ССС ССС\\AppData\\Local\\Temp\\ipykernel_157300\\721303036.py:1: FutureWarning: The default of observed=False is deprecated and will be changed to True in a future version of pandas. Pass observed=False to retain current behavior or observed=True to adopt the future default and silence this warning.\n",
      "  group_stats = df.groupby('test group').agg(\n"
     ]
    },
    {
     "data": {
      "text/html": [
       "<div>\n",
       "<style scoped>\n",
       "    .dataframe tbody tr th:only-of-type {\n",
       "        vertical-align: middle;\n",
       "    }\n",
       "\n",
       "    .dataframe tbody tr th {\n",
       "        vertical-align: top;\n",
       "    }\n",
       "\n",
       "    .dataframe thead th {\n",
       "        text-align: right;\n",
       "    }\n",
       "</style>\n",
       "<table border=\"1\" class=\"dataframe\">\n",
       "  <thead>\n",
       "    <tr style=\"text-align: right;\">\n",
       "      <th></th>\n",
       "      <th>visits</th>\n",
       "      <th>total_purchases</th>\n",
       "    </tr>\n",
       "    <tr>\n",
       "      <th>test group</th>\n",
       "      <th></th>\n",
       "      <th></th>\n",
       "    </tr>\n",
       "  </thead>\n",
       "  <tbody>\n",
       "    <tr>\n",
       "      <th>ad</th>\n",
       "      <td>564577</td>\n",
       "      <td>14423</td>\n",
       "    </tr>\n",
       "    <tr>\n",
       "      <th>psa</th>\n",
       "      <td>23524</td>\n",
       "      <td>420</td>\n",
       "    </tr>\n",
       "  </tbody>\n",
       "</table>\n",
       "</div>"
      ],
      "text/plain": [
       "            visits  total_purchases\n",
       "test group                         \n",
       "ad          564577            14423\n",
       "psa          23524              420"
      ]
     },
     "execution_count": 123,
     "metadata": {},
     "output_type": "execute_result"
    }
   ],
   "source": [
    "group_stats = df.groupby('test group').agg(\n",
    "    visits=('user id', 'count'),\n",
    "    total_purchases=('converted', 'sum')\n",
    ")\n",
    "group_stats"
   ]
  },
  {
   "cell_type": "markdown",
   "id": "4bbbfb73",
   "metadata": {},
   "source": [
    "Количество посещений сильно не сбалансированно, в экспериментальной группе их на порядок больше.\n",
    "\n",
    "Расситаем конверсию и среднее количество рекламы, увиденной пользователем."
   ]
  },
  {
   "cell_type": "code",
   "execution_count": 124,
   "id": "8e0948da",
   "metadata": {},
   "outputs": [
    {
     "name": "stderr",
     "output_type": "stream",
     "text": [
      "C:\\Users\\ССС ССС\\AppData\\Local\\Temp\\ipykernel_157300\\3741629971.py:2: FutureWarning: The default of observed=False is deprecated and will be changed to True in a future version of pandas. Pass observed=False to retain current behavior or observed=True to adopt the future default and silence this warning.\n",
      "  group_stats['mean ads'] = df.groupby('test group')['total ads'].mean()\n"
     ]
    },
    {
     "data": {
      "text/html": [
       "<div>\n",
       "<style scoped>\n",
       "    .dataframe tbody tr th:only-of-type {\n",
       "        vertical-align: middle;\n",
       "    }\n",
       "\n",
       "    .dataframe tbody tr th {\n",
       "        vertical-align: top;\n",
       "    }\n",
       "\n",
       "    .dataframe thead th {\n",
       "        text-align: right;\n",
       "    }\n",
       "</style>\n",
       "<table border=\"1\" class=\"dataframe\">\n",
       "  <thead>\n",
       "    <tr style=\"text-align: right;\">\n",
       "      <th></th>\n",
       "      <th>visits</th>\n",
       "      <th>total_purchases</th>\n",
       "      <th>conversion</th>\n",
       "      <th>mean ads</th>\n",
       "    </tr>\n",
       "    <tr>\n",
       "      <th>test group</th>\n",
       "      <th></th>\n",
       "      <th></th>\n",
       "      <th></th>\n",
       "      <th></th>\n",
       "    </tr>\n",
       "  </thead>\n",
       "  <tbody>\n",
       "    <tr>\n",
       "      <th>ad</th>\n",
       "      <td>564577</td>\n",
       "      <td>14423</td>\n",
       "      <td>2.554656</td>\n",
       "      <td>24.823365</td>\n",
       "    </tr>\n",
       "    <tr>\n",
       "      <th>psa</th>\n",
       "      <td>23524</td>\n",
       "      <td>420</td>\n",
       "      <td>1.785411</td>\n",
       "      <td>24.761138</td>\n",
       "    </tr>\n",
       "  </tbody>\n",
       "</table>\n",
       "</div>"
      ],
      "text/plain": [
       "            visits  total_purchases  conversion   mean ads\n",
       "test group                                                \n",
       "ad          564577            14423    2.554656  24.823365\n",
       "psa          23524              420    1.785411  24.761138"
      ]
     },
     "execution_count": 124,
     "metadata": {},
     "output_type": "execute_result"
    }
   ],
   "source": [
    "group_stats['conversion'] = group_stats['total_purchases'] / group_stats['visits'] * 100\n",
    "group_stats['mean ads'] = df.groupby('test group')['total ads'].mean()\n",
    "group_stats"
   ]
  },
  {
   "cell_type": "markdown",
   "id": "0ba790d9",
   "metadata": {},
   "source": [
    "При практически одинаковом количестве показов рекламы в экспериментальной группе конверсия значительно выше"
   ]
  },
  {
   "cell_type": "markdown",
   "id": "3ca7add0",
   "metadata": {},
   "source": [
    "# Статистический анализ результатов A/B-тестирования"
   ]
  },
  {
   "cell_type": "markdown",
   "id": "8ffab53e",
   "metadata": {},
   "source": [
    "Будем использовать z-тест для проверки гипотезы о равенстве конверсий в двух группах.\n",
    "\n",
    "Нулевая гипотеза (H₀): Конверсия в группе ad равна конверсии в группе psa.\n",
    "\n",
    "Альтернативная гипотеза (H₁): Конверсия в группе ad не равна конверсии в группе psa."
   ]
  },
  {
   "cell_type": "code",
   "execution_count": 125,
   "id": "7a407746",
   "metadata": {},
   "outputs": [
    {
     "name": "stdout",
     "output_type": "stream",
     "text": [
      "z-тест: z = 7.3701, p_value = 0.0000\n"
     ]
    }
   ],
   "source": [
    "# разделим группы\n",
    "group_a = df[df['test group'] == 'ad']\n",
    "group_b = df[df['test group'] == 'psa']\n",
    "\n",
    "# количество успехов и общее число наблюдений\n",
    "success_a = group_a['converted'].sum()\n",
    "success_b = group_b['converted'].sum()\n",
    "n_a = group_a.shape[0]\n",
    "n_b = group_b.shape[0]\n",
    "\n",
    "# Пропорции\n",
    "p_a = success_a / n_a\n",
    "p_b = success_b / n_b\n",
    "p_pooled = (success_a + success_b) / (n_a + n_b)\n",
    "\n",
    "# z-тест для сравнения пропорций\n",
    "z_score = (p_a - p_b) / np.sqrt(p_pooled * (1 - p_pooled) * (1/n_a + 1/n_b))\n",
    "p_value = 2 * (1 - stats.norm.cdf(abs(z_score)))\n",
    "\n",
    "print(f\"z-тест: z = {z_score:.4f}, p_value = {p_value:.4f}\")"
   ]
  },
  {
   "cell_type": "markdown",
   "id": "565e2b4a",
   "metadata": {},
   "source": [
    "При уровне значимости 0.05 отвергаем нулевую гипотезу в пользу альтернативной. Конверсии в группах отличаются\n",
    "\n",
    "Проверим нормальность распределения среднего количества рекламы с помощью теста Шапиро-Уилка.\n",
    "\n",
    "Нулевая гипотеза (H₀): Среднее количество показов рекламы в группы ad и группы psa нормальны.\n",
    "\n",
    "Альтернативная гипотеза (H₁): Среднее количество показов рекламы группы ad и группы psa не нормальны."
   ]
  },
  {
   "cell_type": "code",
   "execution_count": 126,
   "id": "497d7f8a",
   "metadata": {},
   "outputs": [
    {
     "name": "stdout",
     "output_type": "stream",
     "text": [
      "p_value ad: 3.701044472444164e-203\n",
      "p_value psa: 7.270789402370636e-120\n"
     ]
    },
    {
     "name": "stderr",
     "output_type": "stream",
     "text": [
      "C:\\ProgramData\\anaconda3\\envs\\data_analysis\\Lib\\site-packages\\scipy\\stats\\_axis_nan_policy.py:573: UserWarning: scipy.stats.shapiro: For N > 5000, computed p-value may not be accurate. Current N is 564577.\n",
      "  res = hypotest_fun_out(*samples, **kwds)\n",
      "C:\\ProgramData\\anaconda3\\envs\\data_analysis\\Lib\\site-packages\\scipy\\stats\\_axis_nan_policy.py:573: UserWarning: scipy.stats.shapiro: For N > 5000, computed p-value may not be accurate. Current N is 23524.\n",
      "  res = hypotest_fun_out(*samples, **kwds)\n"
     ]
    }
   ],
   "source": [
    "# Проверка нормальности\n",
    "_, p_norm_a = stats.shapiro(group_a['total ads'])\n",
    "_, p_norm_b = stats.shapiro(group_b['total ads'])\n",
    "\n",
    "print(\"p_value ad:\", stats.shapiro(group_a['total ads'])[1])\n",
    "print(\"p_value psa:\", stats.shapiro(group_b['total ads'])[1])"
   ]
  },
  {
   "cell_type": "markdown",
   "id": "4a77b60f",
   "metadata": {},
   "source": [
    "При уровне значимости 0.05 отвергаем нулевую гипотезу для обеих групп в пользу альтернативной. Распределения отличаются от нормального.\n",
    "\n",
    "Далее используем U-тест\n",
    "\n",
    "Нулевая гипотеза (H₀): Среднее количество показов рекламы в группе ad и группе ad совпадают.\n",
    "\n",
    "Альтернативная гипотеза (H₁): Среднее количество показов рекламы в группе ad и группе ad не совпадают."
   ]
  },
  {
   "cell_type": "code",
   "execution_count": 127,
   "id": "4ddcee0b",
   "metadata": {},
   "outputs": [
    {
     "name": "stdout",
     "output_type": "stream",
     "text": [
      "p_value: 4.6909108547205694e-11\n"
     ]
    }
   ],
   "source": [
    "# вычисляем результат U-теста\n",
    "test_stat, p_ads = stats.mannwhitneyu(\n",
    "    group_a['total ads'],\n",
    "    group_b['total ads'],\n",
    "    alternative='two-sided'\n",
    ")\n",
    "\n",
    "print('p_value:', p_ads)"
   ]
  },
  {
   "cell_type": "markdown",
   "id": "d2440923",
   "metadata": {},
   "source": [
    "При уровне значимости 0.05 отвергаем нулевую гипотезу в пользу альтернативной. Среднее количество показов рекламы в группе ad и группе ad не совпадают"
   ]
  },
  {
   "cell_type": "markdown",
   "id": "d73008ec",
   "metadata": {},
   "source": [
    "Постоим доверительные 95% интервалы для:\n",
    "\n",
    "* конверсий в каждой из групп\n",
    "* разницы конверсий в группах\n",
    "* среднего количества увиденной рекламы в группах ad и psa."
   ]
  },
  {
   "cell_type": "code",
   "execution_count": 128,
   "id": "e7615109",
   "metadata": {},
   "outputs": [],
   "source": [
    "# функция для рассчета доверительного интервала для пропорции\n",
    "def proportion_ci(successes, n, gamma=0.95):  \n",
    "    alpha = 1 - gamma # уровень значимости\n",
    "    z_crit = -stats.norm.ppf(alpha/2) # z-критическое\n",
    "    eps = z_crit * (successes * (1 - successes) / n) ** 0.5\n",
    "    return successes - eps, successes + eps"
   ]
  },
  {
   "cell_type": "code",
   "execution_count": 129,
   "id": "b8adf9b2",
   "metadata": {},
   "outputs": [
    {
     "name": "stdout",
     "output_type": "stream",
     "text": [
      "С вероятностью 95% в группе ad значение конверсии лежит в интервале между 2.51 и 2.6\n",
      "С вероятностью 95% в группе psa значение конверсии лежит в интервале между 1.62 и 1.95\n"
     ]
    }
   ],
   "source": [
    "lower_ad, upper_ad  = proportion_ci(\n",
    "    successes=group_a['converted'].mean(), # выборочная пропорция\n",
    "    n=group_a['user id'].count() # размер выборки\n",
    ")\n",
    "\n",
    "lower_psa, upper_psa  = proportion_ci(\n",
    "    successes=group_b['converted'].mean(), # выборочная пропорция\n",
    "    n=group_b['user id'].count() # размер выборки\n",
    ")\n",
    "\n",
    "l = lambda x: round(float(x) * 100, 2)\n",
    "\n",
    "print(f'С вероятностью 95% в группе ad значение конверсии лежит в интервале между {l(lower_ad)} и {l(upper_ad)}')\n",
    "print(f'С вероятностью 95% в группе psa значение конверсии лежит в интервале между {l(lower_psa)} и {l(upper_psa)}')"
   ]
  },
  {
   "cell_type": "code",
   "execution_count": 130,
   "id": "4953ba0f",
   "metadata": {},
   "outputs": [
    {
     "data": {
      "image/png": "[encoded data removed]",
      "text/plain": [
       "<Figure size 800x500 with 1 Axes>"
      ]
     },
     "metadata": {},
     "output_type": "display_data"
    }
   ],
   "source": [
    "# Успехи и размеры\n",
    "success_a = group_a['converted'].sum()\n",
    "success_b = group_b['converted'].sum()\n",
    "n_a = group_a.shape[0]\n",
    "n_b = group_b.shape[0]\n",
    "\n",
    "# Средние значения (для точек)\n",
    "mean_ad = success_a / n_a\n",
    "mean_psa = success_b / n_b\n",
    "\n",
    "# Построение графика\n",
    "labels = ['Группа A (ad)', 'Группа B (psa)']\n",
    "means = [mean_ad * 100, mean_psa * 100]\n",
    "errors = [\n",
    "    (mean_ad - lower_ad) * 100,\n",
    "    (mean_psa - lower_psa) * 100\n",
    "]\n",
    "\n",
    "plt.figure(figsize=(8, 5))\n",
    "plt.errorbar(labels, means, yerr=errors, capsize=10, fmt='o', color='blue', ecolor='lightblue', elinewidth=3, alpha=0.7)\n",
    "plt.ylabel('Конверсия')\n",
    "plt.title('95% Доверительные интервалы для конверсии по группам')\n",
    "\n",
    "plt.grid(axis='y', linestyle='--', alpha=0.6)\n",
    "plt.show()"
   ]
  },
  {
   "cell_type": "code",
   "execution_count": 131,
   "id": "7802f41c",
   "metadata": {},
   "outputs": [],
   "source": [
    "# функция для рассчета доверительного интервала для разности пропорций\n",
    "def proportion_diff_ci(successes, n, gamma=0.95):  \n",
    "    alpha = 1 - gamma # уровень значимости\n",
    "    diff = successes[1] - successes[0]\n",
    "    z_crit = -stats.norm.ppf(alpha/2) # z-критическое\n",
    "    eps = z_crit * (successes[0] * (1 - successes[0])/n[0] + successes[1] * (1 - successes[1])/n[1]) ** 0.5\n",
    "    return diff - eps, diff + eps"
   ]
  },
  {
   "cell_type": "code",
   "execution_count": 132,
   "id": "ef0de0df",
   "metadata": {},
   "outputs": [
    {
     "name": "stdout",
     "output_type": "stream",
     "text": [
      "С вероятностью 95% разность конверсий лежит в интервале между -0.94 и -0.6\n"
     ]
    }
   ],
   "source": [
    "# доверительный интервал для разности пропорций\n",
    "lower_bound, upper_bound = proportion_diff_ci(\n",
    "    successes=[group_a['converted'].mean(), group_b['converted'].mean()],\n",
    "    n=[group_a['user id'].count(), group_b['user id'].count()]\n",
    ")\n",
    "\n",
    "l = lambda x: round(float(x) * 100, 2)\n",
    "\n",
    "# выводим результат\n",
    "print(f'С вероятностью 95% разность конверсий лежит в интервале между {l(lower_bound)} и {l(upper_bound)}')"
   ]
  },
  {
   "cell_type": "markdown",
   "id": "c4b06677",
   "metadata": {},
   "source": [
    "С вероятностью 95% конверсия в ad будет выше чем в psa"
   ]
  },
  {
   "cell_type": "code",
   "execution_count": null,
   "id": "30273e82",
   "metadata": {},
   "outputs": [
    {
     "name": "stdout",
     "output_type": "stream",
     "text": [
      "95% доверительный интервал для группы ad: [24.71, 24.94]\n",
      "95% доверительный интервал для группы psa: [24.21, 25.31]\n"
     ]
    },
    {
     "data": {
      "image/png": "[encoded data removed]",
      "text/plain": [
       "<Figure size 640x480 with 1 Axes>"
      ]
     },
     "metadata": {},
     "output_type": "display_data"
    }
   ],
   "source": [
    "mean_a = group_a['total ads'].mean()\n",
    "mean_b = group_b['total ads'].mean()\n",
    "stde_a = group_a['total ads'].std(ddof=1) / np.sqrt(n_a)\n",
    "stde_b = group_b['total ads'].std(ddof=1) / np.sqrt(n_b)\n",
    "\n",
    "# Доверительные интервалы количества рекламы\n",
    "lower_a = (mean_a - 1.96 * stde_a, mean_a + 1.96 * stde_a)\n",
    "lower_b = (mean_b - 1.96 * stde_b, mean_b + 1.96 * stde_b)\n",
    "\n",
    "l = lambda x: round(float(x), 2)\n",
    "\n",
    "print(f\"95% доверительный интервал для группы ad: {list(map(l, lower_a))}\")\n",
    "print(f\"95% доверительный интервал для группы psa: {list(map(l, lower_b))}\")\n",
    "\n",
    "plt.errorbar([0, 1], [mean_a, mean_b],\n",
    "            yerr=[mean_a - lower_a[0], mean_b - lower_b[0]],\n",
    "            capsize=10, fmt='o', color='blue', ecolor='lightblue', elinewidth=3, alpha=0.7\n",
    ")\n",
    "plt.xticks([0, 1], ['Группа A (ad)', 'Группа B (psa)'])\n",
    "plt.ylabel('Среднее количество рекламы')\n",
    "plt.title('Доверительные интервалы показов')\n",
    "plt.tight_layout()\n",
    "plt.show()"
   ]
  },
  {
   "cell_type": "markdown",
   "id": "ea07c6f8",
   "metadata": {},
   "source": [
    "Доверительные интервалы значительно близки. Можно сказать что общее среднее количество рекламы с вероятностью 95% будет лежать в интервале (24.71, 24.94)."
   ]
  },
  {
   "cell_type": "markdown",
   "id": "a0eb8f49",
   "metadata": {},
   "source": [
    "# Вывод\n",
    "\n",
    "Согласно проведенному исследованию можно сделать вывод, что рекламная компания была успешной и привела к увеличению средней конверсии с вероятностью 95% на 0.6 - 0.94 при отсутствии значительных различий в количестве показов рекламы. Можно сказать, что успех можно объяснить рекламой, а не другими факторами."
   ]
  }
 ],
 "metadata": {
  "kernelspec": {
   "display_name": "Python 3 (ipykernel)",
   "language": "python",
   "name": "python3"
  },
  "language_info": {
   "codemirror_mode": {
    "name": "ipython",
    "version": 3
   },
   "file_extension": ".py",
   "mimetype": "text/x-python",
   "name": "python",
   "nbconvert_exporter": "python",
   "pygments_lexer": "ipython3",
   "version": "3.12.8"
  }
 },
 "nbformat": 4,
 "nbformat_minor": 5
}
