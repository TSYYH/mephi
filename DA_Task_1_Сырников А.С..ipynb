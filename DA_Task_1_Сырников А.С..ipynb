{
 "cells": [
  {
   "cell_type": "code",
   "execution_count": 1,
   "id": "38e1c2c5",
   "metadata": {},
   "outputs": [],
   "source": [
    "# импортируем необходимые модули\n",
    "import pandas as pd\n",
    "import numpy as np\n",
    "import matplotlib.pyplot as plt"
   ]
  },
  {
   "cell_type": "code",
   "execution_count": 2,
   "id": "b98d2b16",
   "metadata": {},
   "outputs": [],
   "source": [
    "# заданные типы в условии\n",
    "dtypes = {\n",
    "    \"row_id\": \"int64\",\n",
    "    \"timestamp\": \"int64\",\n",
    "    \"user_id\": \"int32\",\n",
    "    \"content_id\": \"int16\",\n",
    "    \"content_type_id\": \"boolean\",\n",
    "    \"task_container_id\": \"int16\",\n",
    "    \"user_answer\": \"int8\",\n",
    "    \"answered_correctly\": \"int8\",\n",
    "    \"prior_question_elapsed_time\": \"float32\", \n",
    "    \"prior_question_had_explanation\": \"boolean\"\n",
    "}\n",
    "\n",
    "# загрузка данных\n",
    "train = pd.read_csv(\"data/train-001.csv\", dtype=dtypes)\n",
    "lectures = pd.read_csv(\"data/lectures.csv\")\n",
    "questions = pd.read_csv(\"data/questions.csv\")"
   ]
  },
  {
   "cell_type": "code",
   "execution_count": 3,
   "id": "64420c5e",
   "metadata": {},
   "outputs": [
    {
     "name": "stdout",
     "output_type": "stream",
     "text": [
      "Train size: (101230332, 10)\n",
      "Lectures size: (418, 4)\n",
      "Questions size: (13523, 5)\n"
     ]
    }
   ],
   "source": [
    "# размерность данных\n",
    "print(\"Train size:\", train.shape)\n",
    "print(\"Lectures size:\", lectures.shape)\n",
    "print(\"Questions size:\", questions.shape)"
   ]
  },
  {
   "cell_type": "code",
   "execution_count": 4,
   "id": "d1ae510f",
   "metadata": {},
   "outputs": [
    {
     "name": "stdout",
     "output_type": "stream",
     "text": [
      "Train:\n"
     ]
    },
    {
     "data": {
      "text/html": [
       "<div>\n",
       "<style scoped>\n",
       "    .dataframe tbody tr th:only-of-type {\n",
       "        vertical-align: middle;\n",
       "    }\n",
       "\n",
       "    .dataframe tbody tr th {\n",
       "        vertical-align: top;\n",
       "    }\n",
       "\n",
       "    .dataframe thead th {\n",
       "        text-align: right;\n",
       "    }\n",
       "</style>\n",
       "<table border=\"1\" class=\"dataframe\">\n",
       "  <thead>\n",
       "    <tr style=\"text-align: right;\">\n",
       "      <th></th>\n",
       "      <th>row_id</th>\n",
       "      <th>timestamp</th>\n",
       "      <th>user_id</th>\n",
       "      <th>content_id</th>\n",
       "      <th>content_type_id</th>\n",
       "      <th>task_container_id</th>\n",
       "      <th>user_answer</th>\n",
       "      <th>answered_correctly</th>\n",
       "      <th>prior_question_elapsed_time</th>\n",
       "      <th>prior_question_had_explanation</th>\n",
       "    </tr>\n",
       "  </thead>\n",
       "  <tbody>\n",
       "    <tr>\n",
       "      <th>0</th>\n",
       "      <td>0</td>\n",
       "      <td>0</td>\n",
       "      <td>115</td>\n",
       "      <td>5692</td>\n",
       "      <td>False</td>\n",
       "      <td>1</td>\n",
       "      <td>3</td>\n",
       "      <td>1</td>\n",
       "      <td>NaN</td>\n",
       "      <td>&lt;NA&gt;</td>\n",
       "    </tr>\n",
       "    <tr>\n",
       "      <th>1</th>\n",
       "      <td>1</td>\n",
       "      <td>56943</td>\n",
       "      <td>115</td>\n",
       "      <td>5716</td>\n",
       "      <td>False</td>\n",
       "      <td>2</td>\n",
       "      <td>2</td>\n",
       "      <td>1</td>\n",
       "      <td>37000.0</td>\n",
       "      <td>False</td>\n",
       "    </tr>\n",
       "    <tr>\n",
       "      <th>2</th>\n",
       "      <td>2</td>\n",
       "      <td>118363</td>\n",
       "      <td>115</td>\n",
       "      <td>128</td>\n",
       "      <td>False</td>\n",
       "      <td>0</td>\n",
       "      <td>0</td>\n",
       "      <td>1</td>\n",
       "      <td>55000.0</td>\n",
       "      <td>False</td>\n",
       "    </tr>\n",
       "    <tr>\n",
       "      <th>3</th>\n",
       "      <td>3</td>\n",
       "      <td>131167</td>\n",
       "      <td>115</td>\n",
       "      <td>7860</td>\n",
       "      <td>False</td>\n",
       "      <td>3</td>\n",
       "      <td>0</td>\n",
       "      <td>1</td>\n",
       "      <td>19000.0</td>\n",
       "      <td>False</td>\n",
       "    </tr>\n",
       "    <tr>\n",
       "      <th>4</th>\n",
       "      <td>4</td>\n",
       "      <td>137965</td>\n",
       "      <td>115</td>\n",
       "      <td>7922</td>\n",
       "      <td>False</td>\n",
       "      <td>4</td>\n",
       "      <td>1</td>\n",
       "      <td>1</td>\n",
       "      <td>11000.0</td>\n",
       "      <td>False</td>\n",
       "    </tr>\n",
       "  </tbody>\n",
       "</table>\n",
       "</div>"
      ],
      "text/plain": [
       "   row_id  timestamp  user_id  content_id  content_type_id  task_container_id  \\\n",
       "0       0          0      115        5692            False                  1   \n",
       "1       1      56943      115        5716            False                  2   \n",
       "2       2     118363      115         128            False                  0   \n",
       "3       3     131167      115        7860            False                  3   \n",
       "4       4     137965      115        7922            False                  4   \n",
       "\n",
       "   user_answer  answered_correctly  prior_question_elapsed_time  \\\n",
       "0            3                   1                          NaN   \n",
       "1            2                   1                      37000.0   \n",
       "2            0                   1                      55000.0   \n",
       "3            0                   1                      19000.0   \n",
       "4            1                   1                      11000.0   \n",
       "\n",
       "   prior_question_had_explanation  \n",
       "0                            <NA>  \n",
       "1                           False  \n",
       "2                           False  \n",
       "3                           False  \n",
       "4                           False  "
      ]
     },
     "metadata": {},
     "output_type": "display_data"
    },
    {
     "name": "stdout",
     "output_type": "stream",
     "text": [
      "Lectures:\n"
     ]
    },
    {
     "data": {
      "text/html": [
       "<div>\n",
       "<style scoped>\n",
       "    .dataframe tbody tr th:only-of-type {\n",
       "        vertical-align: middle;\n",
       "    }\n",
       "\n",
       "    .dataframe tbody tr th {\n",
       "        vertical-align: top;\n",
       "    }\n",
       "\n",
       "    .dataframe thead th {\n",
       "        text-align: right;\n",
       "    }\n",
       "</style>\n",
       "<table border=\"1\" class=\"dataframe\">\n",
       "  <thead>\n",
       "    <tr style=\"text-align: right;\">\n",
       "      <th></th>\n",
       "      <th>lecture_id</th>\n",
       "      <th>tag</th>\n",
       "      <th>part</th>\n",
       "      <th>type_of</th>\n",
       "    </tr>\n",
       "  </thead>\n",
       "  <tbody>\n",
       "    <tr>\n",
       "      <th>0</th>\n",
       "      <td>89</td>\n",
       "      <td>159</td>\n",
       "      <td>5</td>\n",
       "      <td>concept</td>\n",
       "    </tr>\n",
       "    <tr>\n",
       "      <th>1</th>\n",
       "      <td>100</td>\n",
       "      <td>70</td>\n",
       "      <td>1</td>\n",
       "      <td>concept</td>\n",
       "    </tr>\n",
       "    <tr>\n",
       "      <th>2</th>\n",
       "      <td>185</td>\n",
       "      <td>45</td>\n",
       "      <td>6</td>\n",
       "      <td>concept</td>\n",
       "    </tr>\n",
       "    <tr>\n",
       "      <th>3</th>\n",
       "      <td>192</td>\n",
       "      <td>79</td>\n",
       "      <td>5</td>\n",
       "      <td>solving question</td>\n",
       "    </tr>\n",
       "    <tr>\n",
       "      <th>4</th>\n",
       "      <td>317</td>\n",
       "      <td>156</td>\n",
       "      <td>5</td>\n",
       "      <td>solving question</td>\n",
       "    </tr>\n",
       "  </tbody>\n",
       "</table>\n",
       "</div>"
      ],
      "text/plain": [
       "   lecture_id  tag  part           type_of\n",
       "0          89  159     5           concept\n",
       "1         100   70     1           concept\n",
       "2         185   45     6           concept\n",
       "3         192   79     5  solving question\n",
       "4         317  156     5  solving question"
      ]
     },
     "metadata": {},
     "output_type": "display_data"
    },
    {
     "name": "stdout",
     "output_type": "stream",
     "text": [
      "Questions:\n"
     ]
    },
    {
     "data": {
      "text/html": [
       "<div>\n",
       "<style scoped>\n",
       "    .dataframe tbody tr th:only-of-type {\n",
       "        vertical-align: middle;\n",
       "    }\n",
       "\n",
       "    .dataframe tbody tr th {\n",
       "        vertical-align: top;\n",
       "    }\n",
       "\n",
       "    .dataframe thead th {\n",
       "        text-align: right;\n",
       "    }\n",
       "</style>\n",
       "<table border=\"1\" class=\"dataframe\">\n",
       "  <thead>\n",
       "    <tr style=\"text-align: right;\">\n",
       "      <th></th>\n",
       "      <th>question_id</th>\n",
       "      <th>bundle_id</th>\n",
       "      <th>correct_answer</th>\n",
       "      <th>part</th>\n",
       "      <th>tags</th>\n",
       "    </tr>\n",
       "  </thead>\n",
       "  <tbody>\n",
       "    <tr>\n",
       "      <th>0</th>\n",
       "      <td>0</td>\n",
       "      <td>0</td>\n",
       "      <td>0</td>\n",
       "      <td>1</td>\n",
       "      <td>51 131 162 38</td>\n",
       "    </tr>\n",
       "    <tr>\n",
       "      <th>1</th>\n",
       "      <td>1</td>\n",
       "      <td>1</td>\n",
       "      <td>1</td>\n",
       "      <td>1</td>\n",
       "      <td>131 36 81</td>\n",
       "    </tr>\n",
       "    <tr>\n",
       "      <th>2</th>\n",
       "      <td>2</td>\n",
       "      <td>2</td>\n",
       "      <td>0</td>\n",
       "      <td>1</td>\n",
       "      <td>131 101 162 92</td>\n",
       "    </tr>\n",
       "    <tr>\n",
       "      <th>3</th>\n",
       "      <td>3</td>\n",
       "      <td>3</td>\n",
       "      <td>0</td>\n",
       "      <td>1</td>\n",
       "      <td>131 149 162 29</td>\n",
       "    </tr>\n",
       "    <tr>\n",
       "      <th>4</th>\n",
       "      <td>4</td>\n",
       "      <td>4</td>\n",
       "      <td>3</td>\n",
       "      <td>1</td>\n",
       "      <td>131 5 162 38</td>\n",
       "    </tr>\n",
       "  </tbody>\n",
       "</table>\n",
       "</div>"
      ],
      "text/plain": [
       "   question_id  bundle_id  correct_answer  part            tags\n",
       "0            0          0               0     1   51 131 162 38\n",
       "1            1          1               1     1       131 36 81\n",
       "2            2          2               0     1  131 101 162 92\n",
       "3            3          3               0     1  131 149 162 29\n",
       "4            4          4               3     1    131 5 162 38"
      ]
     },
     "metadata": {},
     "output_type": "display_data"
    }
   ],
   "source": [
    "# первые строки данных\n",
    "print(\"Train:\")\n",
    "display(train.head())\n",
    "print(\"Lectures:\")\n",
    "display(lectures.head())\n",
    "print(\"Questions:\")\n",
    "display(questions.head())"
   ]
  },
  {
   "cell_type": "code",
   "execution_count": 5,
   "id": "02f91862",
   "metadata": {},
   "outputs": [
    {
     "name": "stdout",
     "output_type": "stream",
     "text": [
      "<class 'pandas.core.frame.DataFrame'>\n",
      "RangeIndex: 101230332 entries, 0 to 101230331\n",
      "Data columns (total 10 columns):\n",
      " #   Column                          Dtype  \n",
      "---  ------                          -----  \n",
      " 0   row_id                          int64  \n",
      " 1   timestamp                       int64  \n",
      " 2   user_id                         int32  \n",
      " 3   content_id                      int16  \n",
      " 4   content_type_id                 boolean\n",
      " 5   task_container_id               int16  \n",
      " 6   user_answer                     int8   \n",
      " 7   answered_correctly              int8   \n",
      " 8   prior_question_elapsed_time     float32\n",
      " 9   prior_question_had_explanation  float32\n",
      "dtypes: boolean(1), float32(2), int16(2), int32(1), int64(2), int8(2)\n",
      "memory usage: 3.4 GB\n"
     ]
    }
   ],
   "source": [
    "# приведение информации о просмотренном объяснении для облегчения подсчета\n",
    "train['prior_question_had_explanation'] = train['prior_question_had_explanation'].astype('float32')\n",
    "# базовая информация о данных\n",
    "train.info()"
   ]
  },
  {
   "cell_type": "code",
   "execution_count": 6,
   "id": "2bdc4486",
   "metadata": {},
   "outputs": [
    {
     "name": "stdout",
     "output_type": "stream",
     "text": [
      "Количество уникальных студентов: 393656\n"
     ]
    }
   ],
   "source": [
    "# количество уникальных студентов\n",
    "students_count = len(train['user_id'].unique())\n",
    "print('Количество уникальных студентов:', students_count)"
   ]
  },
  {
   "cell_type": "code",
   "execution_count": 7,
   "id": "ce8e25d0",
   "metadata": {},
   "outputs": [
    {
     "name": "stdout",
     "output_type": "stream",
     "text": [
      "Варианты ответов: [ 3  2  0  1 -1]\n",
      "Варианты получения баллов: [ 1  0 -1]\n"
     ]
    }
   ],
   "source": [
    "print(\"Варианты ответов:\", train['user_answer'].unique())\n",
    "print(\"Варианты получения баллов:\", train['answered_correctly'].unique())"
   ]
  },
  {
   "cell_type": "code",
   "execution_count": 8,
   "id": "f03a91bf",
   "metadata": {},
   "outputs": [],
   "source": [
    "# выборка только вопросов, без лекций\n",
    "train_questions = train[train['content_type_id'] == 0]"
   ]
  },
  {
   "cell_type": "code",
   "execution_count": 9,
   "id": "bb30272a",
   "metadata": {},
   "outputs": [
    {
     "data": {
      "text/html": [
       "<div>\n",
       "<style scoped>\n",
       "    .dataframe tbody tr th:only-of-type {\n",
       "        vertical-align: middle;\n",
       "    }\n",
       "\n",
       "    .dataframe tbody tr th {\n",
       "        vertical-align: top;\n",
       "    }\n",
       "\n",
       "    .dataframe thead th {\n",
       "        text-align: right;\n",
       "    }\n",
       "</style>\n",
       "<table border=\"1\" class=\"dataframe\">\n",
       "  <thead>\n",
       "    <tr style=\"text-align: right;\">\n",
       "      <th></th>\n",
       "      <th>timestamp</th>\n",
       "      <th>answered_correctly</th>\n",
       "      <th>prior_question_elapsed_time</th>\n",
       "      <th>prior_question_had_explanation</th>\n",
       "    </tr>\n",
       "  </thead>\n",
       "  <tbody>\n",
       "    <tr>\n",
       "      <th>count</th>\n",
       "      <td>9.927130e+07</td>\n",
       "      <td>9.927130e+07</td>\n",
       "      <td>9.887879e+07</td>\n",
       "      <td>9.887879e+07</td>\n",
       "    </tr>\n",
       "    <tr>\n",
       "      <th>mean</th>\n",
       "      <td>7.702058e+09</td>\n",
       "      <td>6.572355e-01</td>\n",
       "      <td>2.542385e+04</td>\n",
       "      <td>9.070255e-01</td>\n",
       "    </tr>\n",
       "    <tr>\n",
       "      <th>std</th>\n",
       "      <td>1.159498e+10</td>\n",
       "      <td>4.746335e-01</td>\n",
       "      <td>1.994815e+04</td>\n",
       "      <td>2.903971e-01</td>\n",
       "    </tr>\n",
       "    <tr>\n",
       "      <th>min</th>\n",
       "      <td>0.000000e+00</td>\n",
       "      <td>0.000000e+00</td>\n",
       "      <td>0.000000e+00</td>\n",
       "      <td>0.000000e+00</td>\n",
       "    </tr>\n",
       "    <tr>\n",
       "      <th>25%</th>\n",
       "      <td>5.195280e+08</td>\n",
       "      <td>0.000000e+00</td>\n",
       "      <td>1.600000e+04</td>\n",
       "      <td>1.000000e+00</td>\n",
       "    </tr>\n",
       "    <tr>\n",
       "      <th>50%</th>\n",
       "      <td>2.669611e+09</td>\n",
       "      <td>1.000000e+00</td>\n",
       "      <td>2.100000e+04</td>\n",
       "      <td>1.000000e+00</td>\n",
       "    </tr>\n",
       "    <tr>\n",
       "      <th>75%</th>\n",
       "      <td>9.929147e+09</td>\n",
       "      <td>1.000000e+00</td>\n",
       "      <td>2.966600e+04</td>\n",
       "      <td>1.000000e+00</td>\n",
       "    </tr>\n",
       "    <tr>\n",
       "      <th>max</th>\n",
       "      <td>8.742577e+10</td>\n",
       "      <td>1.000000e+00</td>\n",
       "      <td>3.000000e+05</td>\n",
       "      <td>1.000000e+00</td>\n",
       "    </tr>\n",
       "  </tbody>\n",
       "</table>\n",
       "</div>"
      ],
      "text/plain": [
       "          timestamp  answered_correctly  prior_question_elapsed_time  \\\n",
       "count  9.927130e+07        9.927130e+07                 9.887879e+07   \n",
       "mean   7.702058e+09        6.572355e-01                 2.542385e+04   \n",
       "std    1.159498e+10        4.746335e-01                 1.994815e+04   \n",
       "min    0.000000e+00        0.000000e+00                 0.000000e+00   \n",
       "25%    5.195280e+08        0.000000e+00                 1.600000e+04   \n",
       "50%    2.669611e+09        1.000000e+00                 2.100000e+04   \n",
       "75%    9.929147e+09        1.000000e+00                 2.966600e+04   \n",
       "max    8.742577e+10        1.000000e+00                 3.000000e+05   \n",
       "\n",
       "       prior_question_had_explanation  \n",
       "count                    9.887879e+07  \n",
       "mean                     9.070255e-01  \n",
       "std                      2.903971e-01  \n",
       "min                      0.000000e+00  \n",
       "25%                      1.000000e+00  \n",
       "50%                      1.000000e+00  \n",
       "75%                      1.000000e+00  \n",
       "max                      1.000000e+00  "
      ]
     },
     "execution_count": 9,
     "metadata": {},
     "output_type": "execute_result"
    }
   ],
   "source": [
    "# характеристики числовых данных в train.csv\n",
    "train_questions.loc[:, ['timestamp', 'answered_correctly', 'prior_question_elapsed_time', 'prior_question_had_explanation']].describe()"
   ]
  },
  {
   "cell_type": "markdown",
   "id": "99db8061",
   "metadata": {},
   "source": [
    "**В 91% случаев студенты пользовались объяснениями**\n",
    "\n",
    "**В 66% случаев были получены правильные ответы**"
   ]
  },
  {
   "cell_type": "code",
   "execution_count": 10,
   "id": "f537e812",
   "metadata": {},
   "outputs": [
    {
     "data": {
      "text/html": [
       "<div>\n",
       "<style scoped>\n",
       "    .dataframe tbody tr th:only-of-type {\n",
       "        vertical-align: middle;\n",
       "    }\n",
       "\n",
       "    .dataframe tbody tr th {\n",
       "        vertical-align: top;\n",
       "    }\n",
       "\n",
       "    .dataframe thead th {\n",
       "        text-align: right;\n",
       "    }\n",
       "</style>\n",
       "<table border=\"1\" class=\"dataframe\">\n",
       "  <thead>\n",
       "    <tr style=\"text-align: right;\">\n",
       "      <th></th>\n",
       "      <th>answered_correctly</th>\n",
       "    </tr>\n",
       "    <tr>\n",
       "      <th>prior_question_had_explanation</th>\n",
       "      <th></th>\n",
       "    </tr>\n",
       "  </thead>\n",
       "  <tbody>\n",
       "    <tr>\n",
       "      <th>0.0</th>\n",
       "      <td>0.500629</td>\n",
       "    </tr>\n",
       "    <tr>\n",
       "      <th>1.0</th>\n",
       "      <td>0.673189</td>\n",
       "    </tr>\n",
       "  </tbody>\n",
       "</table>\n",
       "</div>"
      ],
      "text/plain": [
       "                                answered_correctly\n",
       "prior_question_had_explanation                    \n",
       "0.0                                       0.500629\n",
       "1.0                                       0.673189"
      ]
     },
     "execution_count": 10,
     "metadata": {},
     "output_type": "execute_result"
    }
   ],
   "source": [
    "# выбор столбцов с истинностью ответа и просмотра объяснения\n",
    "(train_questions.loc[:, ['prior_question_had_explanation', 'answered_correctly']]\n",
    "# группировка по объяснениям и подсчет среднего ответа\n",
    ".groupby('prior_question_had_explanation').agg('mean'))"
   ]
  },
  {
   "cell_type": "markdown",
   "id": "5bd0f818",
   "metadata": {},
   "source": [
    "**Если студент получал пояснения, то отвечал правильно в 67% случаев, иначе только в 50%.**"
   ]
  },
  {
   "cell_type": "markdown",
   "id": "49e7358a",
   "metadata": {},
   "source": [
    "Как часто студенты смотрели объяснения после ответа?"
   ]
  },
  {
   "cell_type": "code",
   "execution_count": 11,
   "id": "a2b784f3",
   "metadata": {},
   "outputs": [
    {
     "data": {
      "text/html": [
       "<div>\n",
       "<style scoped>\n",
       "    .dataframe tbody tr th:only-of-type {\n",
       "        vertical-align: middle;\n",
       "    }\n",
       "\n",
       "    .dataframe tbody tr th {\n",
       "        vertical-align: top;\n",
       "    }\n",
       "\n",
       "    .dataframe thead th {\n",
       "        text-align: right;\n",
       "    }\n",
       "</style>\n",
       "<table border=\"1\" class=\"dataframe\">\n",
       "  <thead>\n",
       "    <tr style=\"text-align: right;\">\n",
       "      <th></th>\n",
       "      <th>prior_question_had_explanation</th>\n",
       "    </tr>\n",
       "    <tr>\n",
       "      <th>answered_correctly</th>\n",
       "      <th></th>\n",
       "    </tr>\n",
       "  </thead>\n",
       "  <tbody>\n",
       "    <tr>\n",
       "      <th>0</th>\n",
       "      <td>0.864460</td>\n",
       "    </tr>\n",
       "    <tr>\n",
       "      <th>1</th>\n",
       "      <td>0.929161</td>\n",
       "    </tr>\n",
       "  </tbody>\n",
       "</table>\n",
       "</div>"
      ],
      "text/plain": [
       "                    prior_question_had_explanation\n",
       "answered_correctly                                \n",
       "0                                         0.864460\n",
       "1                                         0.929161"
      ]
     },
     "execution_count": 11,
     "metadata": {},
     "output_type": "execute_result"
    }
   ],
   "source": [
    "# df со смещенными столбцами объяснения и верного ответа\n",
    "pd.DataFrame({\n",
    "    'prior_question_had_explanation': train_questions['prior_question_had_explanation'][1:].reset_index(drop=True),\n",
    "    'answered_correctly': train_questions['answered_correctly'][:-1].reset_index(drop=True)\n",
    "}).groupby('answered_correctly').agg('mean')"
   ]
  },
  {
   "cell_type": "markdown",
   "id": "90e1f946",
   "metadata": {},
   "source": [
    "**После правильного ответа студенты смотрели разъяснение чаще (93%), чем после неправильного (86%)**"
   ]
  },
  {
   "cell_type": "markdown",
   "id": "2417f584",
   "metadata": {},
   "source": [
    "Как зависит правильность ответа от времени ответа?"
   ]
  },
  {
   "cell_type": "code",
   "execution_count": 12,
   "id": "4fd1f607",
   "metadata": {},
   "outputs": [
    {
     "data": {
      "image/png": "[encoded data removed]",
      "text/plain": [
       "<Figure size 720x432 with 1 Axes>"
      ]
     },
     "metadata": {
      "needs_background": "light"
     },
     "output_type": "display_data"
    }
   ],
   "source": [
    "# удаление выбросов timestamp\n",
    "train_temp = train_questions[(train_questions['timestamp'] < train_questions['timestamp'].quantile(0.9)) &\n",
    "                             (train_questions['timestamp'] > train_questions['timestamp'].quantile(0.1))]\n",
    "# группировка по времени и вычисление среднего балла для него\n",
    "train_temp = train_temp[['timestamp', 'answered_correctly']].groupby(train_temp['timestamp'] // 250000000).mean().reset_index(level=0, drop=True)\n",
    "\n",
    "# Настройка графика\n",
    "plt.figure(figsize=(10, 6))\n",
    "plt.plot(train_temp['timestamp'], train_temp['answered_correctly'], marker='o', label='Value over Time')\n",
    "\n",
    "plt.title('График среднего балла за ответ по времени', fontsize=16)\n",
    "plt.xlabel('Timestamp', fontsize=14)\n",
    "plt.ylabel('Mean', fontsize=14)\n",
    "plt.grid(True)\n",
    "plt.legend()\n",
    "plt.show()"
   ]
  },
  {
   "cell_type": "markdown",
   "id": "9b19d234",
   "metadata": {},
   "source": [
    "**Чем ближе к концу тестирования давались ответы, тем больше среди них было правильных, хоть разброс значений и небольшой.**"
   ]
  },
  {
   "cell_type": "markdown",
   "id": "6bbf6086",
   "metadata": {},
   "source": [
    "Как зависит правильность ответа от полного времени обучения?"
   ]
  },
  {
   "cell_type": "code",
   "execution_count": 13,
   "id": "5fb577b3",
   "metadata": {},
   "outputs": [
    {
     "data": {
      "image/png": "[encoded data removed]",
      "text/plain": [
       "<Figure size 720x432 with 1 Axes>"
      ]
     },
     "metadata": {
      "needs_background": "light"
     },
     "output_type": "display_data"
    }
   ],
   "source": [
    "# группировка по пользователям и подсчет\n",
    "# количества действий, времени последнего действия\n",
    "# и среднего балла за задания\n",
    "train_temp = train_questions.groupby('user_id').agg(\n",
    "    actions_count = ('row_id', 'count'),\n",
    "    last_action_time = ('timestamp', 'max'),\n",
    "    mean_correct_ans = ('answered_correctly', 'mean')\n",
    ")\n",
    "# уборка выбросов по количеству дейсвий\n",
    "train_temp = train_temp[train_temp['actions_count'] > train_temp['actions_count'].quantile(0.1)]\n",
    "# группировка по времени последнего действия\n",
    "train_temp = train_temp.groupby(train_temp['last_action_time'] // 1000000000)\n",
    "# вычисление среднего балла за задания для участников группы\n",
    "train_temp = train_temp.mean().reset_index(level=0, drop=True)\n",
    "\n",
    "# Настройка графика\n",
    "plt.figure(figsize=(10, 6))\n",
    "plt.plot(train_temp['last_action_time'], train_temp['mean_correct_ans'], marker='o', label='Value over Time')\n",
    "\n",
    "\n",
    "plt.title('График среднего балла за ответ по общему времени', fontsize=16)\n",
    "plt.xlabel('Last action timestamp', fontsize=14)\n",
    "plt.ylabel('Mean', fontsize=14)\n",
    "plt.grid(True)\n",
    "plt.legend()\n",
    "plt.show()"
   ]
  },
  {
   "cell_type": "markdown",
   "id": "aa02586e",
   "metadata": {},
   "source": [
    "**Можно заметить, что есть прямая зависимость количества правильных ответов от общего времени.**"
   ]
  },
  {
   "cell_type": "markdown",
   "id": "cee5a1ce",
   "metadata": {},
   "source": [
    "Как влияет затраченное на вопрос время на количество правильных ответов?"
   ]
  },
  {
   "cell_type": "code",
   "execution_count": 14,
   "id": "dbe599cc",
   "metadata": {},
   "outputs": [
    {
     "data": {
      "image/png": "[encoded data removed]",
      "text/plain": [
       "<Figure size 720x432 with 1 Axes>"
      ]
     },
     "metadata": {
      "needs_background": "light"
     },
     "output_type": "display_data"
    }
   ],
   "source": [
    "# удаление выбросов\n",
    "train_temp = train_questions[train_questions['prior_question_elapsed_time'] < \n",
    "                             train_questions['prior_question_elapsed_time'].quantile(0.95)]\n",
    "train_temp = train_temp[train_temp['prior_question_elapsed_time'] > \n",
    "                        train_temp['prior_question_elapsed_time'].quantile(0.05)]\n",
    "# сдвиг строк\n",
    "train_temp = pd.DataFrame({\n",
    "    'prior_question_elapsed_time': train_temp['prior_question_elapsed_time'][1:],\n",
    "    'answered_correctly': train_temp['answered_correctly'][:-1]\n",
    "})\n",
    "# группировка по времени с последнего вопроса и вычисление среднего балла\n",
    "train_temp = train_temp.groupby(train_temp['prior_question_elapsed_time'] // 1000).mean().reset_index(level=0, drop=True)\n",
    "\n",
    "# Настройка графика\n",
    "plt.figure(figsize=(10, 6))\n",
    "plt.plot(train_temp['prior_question_elapsed_time'] // 1000, train_temp['answered_correctly'], marker='o', label='Value over Time')\n",
    "\n",
    "plt.title('График среднего балла по затраченному на вопрос времени', fontsize=16)\n",
    "plt.xlabel('prior_question_elapsed_time', fontsize=14)\n",
    "plt.ylabel('Mean', fontsize=14)\n",
    "plt.grid(True)\n",
    "plt.legend()\n",
    "plt.show()"
   ]
  },
  {
   "cell_type": "markdown",
   "id": "6d70df25",
   "metadata": {},
   "source": [
    "**Можно заметить, что правильные ответы чаще всего давались при затратах на вопрос от 15 до 25 секунд**"
   ]
  },
  {
   "cell_type": "code",
   "execution_count": 15,
   "id": "80ac3bde",
   "metadata": {},
   "outputs": [],
   "source": [
    "# добавляем данные из questions.csv\n",
    "train_questions = pd.merge(train, questions, left_on='content_id', right_on='question_id', how='left')\n",
    "# разбиваем теги по пробелу\n",
    "train_questions['tags'] = train_questions['tags'].str.split()"
   ]
  },
  {
   "cell_type": "code",
   "execution_count": 16,
   "id": "fccceede",
   "metadata": {},
   "outputs": [
    {
     "name": "stdout",
     "output_type": "stream",
     "text": [
      "Наиболее распространенные теги вопросов:\n"
     ]
    },
    {
     "data": {
      "text/plain": [
       "92     18991810\n",
       "38     16880516\n",
       "81     14052906\n",
       "29     12516065\n",
       "162     9758801\n",
       "102     9030045\n",
       "143     7256711\n",
       "136     5203023\n",
       "131     4561075\n",
       "62      3366088\n",
       "Name: tags, dtype: int64"
      ]
     },
     "execution_count": 16,
     "metadata": {},
     "output_type": "execute_result"
    }
   ],
   "source": [
    "# подсчет наиболее распространенных тегов\n",
    "question_tags = train_questions['tags'].explode().value_counts()\n",
    "print('Наиболее распространенные теги вопросов:')\n",
    "question_tags.head(10)"
   ]
  },
  {
   "cell_type": "markdown",
   "id": "47c62171",
   "metadata": {},
   "source": [
    "Задачи с какими тегами студентам было легче/сложнее решать?"
   ]
  },
  {
   "cell_type": "code",
   "execution_count": 17,
   "id": "accb11b5",
   "metadata": {},
   "outputs": [
    {
     "data": {
      "text/html": [
       "<div>\n",
       "<style scoped>\n",
       "    .dataframe tbody tr th:only-of-type {\n",
       "        vertical-align: middle;\n",
       "    }\n",
       "\n",
       "    .dataframe tbody tr th {\n",
       "        vertical-align: top;\n",
       "    }\n",
       "\n",
       "    .dataframe thead th {\n",
       "        text-align: right;\n",
       "    }\n",
       "</style>\n",
       "<table border=\"1\" class=\"dataframe\">\n",
       "  <thead>\n",
       "    <tr style=\"text-align: right;\">\n",
       "      <th></th>\n",
       "      <th>answered_correctly</th>\n",
       "    </tr>\n",
       "  </thead>\n",
       "  <tbody>\n",
       "    <tr>\n",
       "      <th>105</th>\n",
       "      <td>0.385725</td>\n",
       "    </tr>\n",
       "    <tr>\n",
       "      <th>99</th>\n",
       "      <td>0.436101</td>\n",
       "    </tr>\n",
       "    <tr>\n",
       "      <th>104</th>\n",
       "      <td>0.438487</td>\n",
       "    </tr>\n",
       "    <tr>\n",
       "      <th>76</th>\n",
       "      <td>0.485636</td>\n",
       "    </tr>\n",
       "    <tr>\n",
       "      <th>59</th>\n",
       "      <td>0.493155</td>\n",
       "    </tr>\n",
       "    <tr>\n",
       "      <th>...</th>\n",
       "      <td>...</td>\n",
       "    </tr>\n",
       "    <tr>\n",
       "      <th>181</th>\n",
       "      <td>0.809775</td>\n",
       "    </tr>\n",
       "    <tr>\n",
       "      <th>123</th>\n",
       "      <td>0.813804</td>\n",
       "    </tr>\n",
       "    <tr>\n",
       "      <th>98</th>\n",
       "      <td>0.819453</td>\n",
       "    </tr>\n",
       "    <tr>\n",
       "      <th>36</th>\n",
       "      <td>0.853152</td>\n",
       "    </tr>\n",
       "    <tr>\n",
       "      <th>153</th>\n",
       "      <td>0.863945</td>\n",
       "    </tr>\n",
       "  </tbody>\n",
       "</table>\n",
       "<p>188 rows × 1 columns</p>\n",
       "</div>"
      ],
      "text/plain": [
       "     answered_correctly\n",
       "105            0.385725\n",
       "99             0.436101\n",
       "104            0.438487\n",
       "76             0.485636\n",
       "59             0.493155\n",
       "..                  ...\n",
       "181            0.809775\n",
       "123            0.813804\n",
       "98             0.819453\n",
       "36             0.853152\n",
       "153            0.863945\n",
       "\n",
       "[188 rows x 1 columns]"
      ]
     },
     "execution_count": 17,
     "metadata": {},
     "output_type": "execute_result"
    }
   ],
   "source": [
    "train_temp = train_questions[['answered_correctly', 'tags']]\n",
    "train_temp = train_temp.explode('tags')\n",
    "train_temp = train_temp.groupby('tags').mean().reset_index(level=0, drop=True).sort_values(by='answered_correctly')\n",
    "train_temp"
   ]
  },
  {
   "cell_type": "markdown",
   "id": "5aa5e287",
   "metadata": {},
   "source": [
    "**На вопросы с тегом 105 правильно ответили всего 38.6%, в то время как на вопросы с тегом 153 более 86%**"
   ]
  },
  {
   "cell_type": "markdown",
   "id": "a5fc15e2",
   "metadata": {},
   "source": [
    "Какие темы были самыми легкими/сложными?"
   ]
  },
  {
   "cell_type": "code",
   "execution_count": 18,
   "id": "437a1cd6",
   "metadata": {},
   "outputs": [
    {
     "data": {
      "text/html": [
       "<div>\n",
       "<style scoped>\n",
       "    .dataframe tbody tr th:only-of-type {\n",
       "        vertical-align: middle;\n",
       "    }\n",
       "\n",
       "    .dataframe tbody tr th {\n",
       "        vertical-align: top;\n",
       "    }\n",
       "\n",
       "    .dataframe thead th {\n",
       "        text-align: right;\n",
       "    }\n",
       "</style>\n",
       "<table border=\"1\" class=\"dataframe\">\n",
       "  <thead>\n",
       "    <tr style=\"text-align: right;\">\n",
       "      <th></th>\n",
       "      <th>answered_correctly</th>\n",
       "    </tr>\n",
       "  </thead>\n",
       "  <tbody>\n",
       "    <tr>\n",
       "      <th>4</th>\n",
       "      <td>0.598691</td>\n",
       "    </tr>\n",
       "    <tr>\n",
       "      <th>3</th>\n",
       "      <td>0.609149</td>\n",
       "    </tr>\n",
       "    <tr>\n",
       "      <th>6</th>\n",
       "      <td>0.651956</td>\n",
       "    </tr>\n",
       "    <tr>\n",
       "      <th>5</th>\n",
       "      <td>0.654881</td>\n",
       "    </tr>\n",
       "    <tr>\n",
       "      <th>2</th>\n",
       "      <td>0.686321</td>\n",
       "    </tr>\n",
       "    <tr>\n",
       "      <th>1</th>\n",
       "      <td>0.701912</td>\n",
       "    </tr>\n",
       "    <tr>\n",
       "      <th>0</th>\n",
       "      <td>0.722198</td>\n",
       "    </tr>\n",
       "  </tbody>\n",
       "</table>\n",
       "</div>"
      ],
      "text/plain": [
       "   answered_correctly\n",
       "4            0.598691\n",
       "3            0.609149\n",
       "6            0.651956\n",
       "5            0.654881\n",
       "2            0.686321\n",
       "1            0.701912\n",
       "0            0.722198"
      ]
     },
     "execution_count": 18,
     "metadata": {},
     "output_type": "execute_result"
    }
   ],
   "source": [
    "# выбор правильности ответов и темы\n",
    "train_temp = train_questions[['answered_correctly', 'part']]\n",
    "# группировка по темам и вычисление средних баллов\n",
    "train_temp = train_temp.groupby('part').mean().reset_index(level=0, drop=True).sort_values(by='answered_correctly')\n",
    "train_temp"
   ]
  },
  {
   "cell_type": "markdown",
   "id": "29c55403",
   "metadata": {},
   "source": [
    "**На вопросы с темой 4 получены всего 60% правильных ответов, в то время как с темой 0 более 72%.**"
   ]
  },
  {
   "cell_type": "markdown",
   "id": "da3cb197",
   "metadata": {},
   "source": [
    "Как зависит процент правильных ответов от количества просмотренных лекций?"
   ]
  },
  {
   "cell_type": "code",
   "execution_count": 19,
   "id": "31166c4a",
   "metadata": {},
   "outputs": [
    {
     "data": {
      "image/png": "[encoded data removed]",
      "text/plain": [
       "<Figure size 720x432 with 1 Axes>"
      ]
     },
     "metadata": {
      "needs_background": "light"
     },
     "output_type": "display_data"
    }
   ],
   "source": [
    "# группировка по пользователям, счет\n",
    "# действий для пользователя, количества лекций,\n",
    "# количества вопросов, количества правильных ответов\n",
    "train_temp = train.groupby('user_id').agg(\n",
    "    rows = ('row_id', 'count'),\n",
    "    lectures = ('content_type_id', lambda x: len(x[x == 1])),\n",
    "    questions = ('content_type_id', lambda x: len(x[x == 0])),\n",
    "    correct = ('answered_correctly', lambda x: len(x[x == 1]))\n",
    ")\n",
    "# уборка выбросов по строкам и лекциям\n",
    "train_temp = train_temp[(train_temp['rows'] > train_temp['rows'].quantile(0.1)) &\n",
    "                       (train_temp['lectures'] < train_temp['lectures'].quantile(0.95))]\n",
    "# вычисление процента правильных ответов\n",
    "train_temp['correct_%'] = (train_temp['correct'] / train_temp['questions']) * 100\n",
    "# группировка по количеству лекций и подсчет среднего процента правильных ответов\n",
    "train_temp = train_temp[['lectures', 'correct_%']].groupby('lectures').mean().reset_index().sort_values(by='lectures')\n",
    "\n",
    "# Настройка графика\n",
    "plt.figure(figsize=(10, 6))\n",
    "plt.plot(train_temp['lectures'], train_temp['correct_%'], marker='o', label='Value over Time')\n",
    "\n",
    "plt.title('График процента правильных ответов по количеству просмотренных лекций', fontsize=16)\n",
    "plt.xlabel('lectures_count', fontsize=14)\n",
    "plt.ylabel('correct_%', fontsize=14)\n",
    "plt.grid(True)\n",
    "plt.legend()\n",
    "plt.show()"
   ]
  },
  {
   "cell_type": "markdown",
   "id": "126be96e",
   "metadata": {},
   "source": [
    "**На графике видна прямая зависимость процента правильных ответов от количества просмотренных лекций**"
   ]
  }
 ],
 "metadata": {
  "kernelspec": {
   "display_name": "Python 3 (ipykernel)",
   "language": "python",
   "name": "python3"
  },
  "language_info": {
   "codemirror_mode": {
    "name": "ipython",
    "version": 3
   },
   "file_extension": ".py",
   "mimetype": "text/x-python",
   "name": "python",
   "nbconvert_exporter": "python",
   "pygments_lexer": "ipython3",
   "version": "3.9.6"
  }
 },
 "nbformat": 4,
 "nbformat_minor": 5
}
