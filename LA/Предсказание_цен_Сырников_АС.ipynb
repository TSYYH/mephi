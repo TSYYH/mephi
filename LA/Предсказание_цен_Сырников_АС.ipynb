{
 "cells": [
  {
   "cell_type": "markdown",
   "metadata": {
    "id": "DQQFfNTLJ20S"
   },
   "source": [
    "# Задание 1"
   ]
  },
  {
   "cell_type": "code",
   "execution_count": 26,
   "metadata": {},
   "outputs": [],
   "source": [
    "import numpy as np\n",
    "import pandas as pd"
   ]
  },
  {
   "cell_type": "code",
   "execution_count": 27,
   "metadata": {
    "id": "XqAzbM6WJyE2"
   },
   "outputs": [
    {
     "data": {
      "text/plain": [
       "'(AxB)xC'"
      ]
     },
     "execution_count": 27,
     "metadata": {},
     "output_type": "execute_result"
    }
   ],
   "source": [
    "#ваш код\n",
    "\n",
    "def  multiplication_order(A, B, C):\n",
    "    # матрицы перемножаемые, поэтому извлечем размеры (a, b), (b, c), (c, d) из матриц A, B, C\n",
    "    a, b = A.shape\n",
    "    c, d = C.shape\n",
    "\n",
    "    # расчет стоимости перемножений\n",
    "    # A * B даст матрицу размера (a, c), где каждый элемент - сумма b произведений\n",
    "    A_B = b * (a * c)\n",
    "    # аналогично B * C даст матрицу размера (b, d), где каждый элемент - сумма c произведений\n",
    "    B_C = c * (b * d)\n",
    "    # аналогично (A * B) * C даст матрицу размера (a, d), где каждый элемент - сумма c произведений\n",
    "    AB_C = c * (a * d)\n",
    "    # аналогично A * (B * C) даст матрицу размера (a, d), где каждый элемент - сумма b произведений\n",
    "    A_BC = b * (a * d)\n",
    "\n",
    "    # выбор выгодного варианта\n",
    "    if A_B + AB_C <= B_C + A_BC:\n",
    "        return \"(AxB)xC\"\n",
    "    else:\n",
    "        return \"Ax(BxC)\"\n",
    "\n",
    "# тест на примере входных данных\n",
    "A = np.array([[1, 2]])\n",
    "B = np.array([[2], [1]])\n",
    "C = np.array([[5]])\n",
    "\n",
    "multiplication_order(A, B, C)\n",
    "# предполагаемый результат: \"(AxB)xC\""
   ]
  },
  {
   "cell_type": "markdown",
   "metadata": {
    "id": "vQvUEt_KKShX"
   },
   "source": [
    "# Задание 2\n"
   ]
  },
  {
   "cell_type": "code",
   "execution_count": 28,
   "metadata": {
    "id": "TMJq9ob2KYBY"
   },
   "outputs": [
    {
     "data": {
      "text/plain": [
       "(np.int64(3), np.int64(2))"
      ]
     },
     "execution_count": 28,
     "metadata": {},
     "output_type": "execute_result"
    }
   ],
   "source": [
    "#ваш код\n",
    "\n",
    "def best_worst(X, Y):\n",
    "    # вычисление коэффициентов корреляции между признаками и ценами\n",
    "    corr_m = np.corrcoef(X.T, Y.T)\n",
    "\n",
    "    # нахождение max и min значений по модулю\n",
    "    # [-1][:-1] выбирает строку цены и убирает столбец цены (значение элемента в строке = 1)\n",
    "    max_corr_idx = np.argmax(np.abs(corr_m[-1][:-1]))\n",
    "    min_corr_idx = np.argmin(np.abs(corr_m[-1][:-1]))\n",
    "\n",
    "    return max_corr_idx, min_corr_idx\n",
    "\n",
    "# тест на значениях из таблицы предисловия к проекту\n",
    "data = np.array([\n",
    "    [3, 51, 3, 0, 1, 0, 2200],\n",
    "    [1, 30, 1, 0, 1, 0, 1600],\n",
    "    [2, 45, 2, 0, 1, 0, 1900],\n",
    "    [3, 55, 1, 0, 1, 0, 2000],\n",
    "    [1, 45, 3, 1, 0, 0, 4500],\n",
    "    [3, 100, 3, 1, 0, 0, 7000],\n",
    "    [2, 71, 2, 1, 0, 0, 5000],\n",
    "    [1, 31, 2, 0, 0, 1, 1700],\n",
    "    [3, 53, 5, 0, 0, 1, 2100],\n",
    "    [1, 33, 3, 0, 0, 1, 1500],\n",
    "    [2, 43, 5, 0, 0, 1, 2000],\n",
    "])\n",
    "# разделяем признаки и цены\n",
    "X = data[:,:-1]\n",
    "Y = data[:,-1]\n",
    "\n",
    "best_worst(X,Y)\n",
    "# предполагаемый результат: (3, 2)"
   ]
  },
  {
   "cell_type": "markdown",
   "metadata": {
    "id": "hindpJMCKhB8"
   },
   "source": [
    "# Задание 3\n"
   ]
  },
  {
   "cell_type": "code",
   "execution_count": 29,
   "metadata": {
    "id": "-YLajcsEKkuQ"
   },
   "outputs": [
    {
     "data": {
      "text/plain": [
       "np.int64(5)"
      ]
     },
     "execution_count": 29,
     "metadata": {},
     "output_type": "execute_result"
    }
   ],
   "source": [
    "#ваш код\n",
    "\n",
    "def corr_rank(X):\n",
    "    # построение матрицы кореляций и вывод её ранга\n",
    "    return np.linalg.matrix_rank(np.corrcoef(X))\n",
    "\n",
    "# тест на значениях из таблицы предисловия к проекту\n",
    "corr_rank(X)\n",
    "# предполагаемый результат: 5"
   ]
  },
  {
   "cell_type": "markdown",
   "metadata": {
    "id": "tKweU9DCKk-f"
   },
   "source": [
    "# Задание 4"
   ]
  },
  {
   "cell_type": "code",
   "execution_count": 30,
   "metadata": {
    "id": "pi2fjbkjKmzi"
   },
   "outputs": [
    {
     "data": {
      "text/plain": [
       "array([[-0.33333333,  0.66666667],\n",
       "       [ 0.66666667, -0.33333333]])"
      ]
     },
     "execution_count": 30,
     "metadata": {},
     "output_type": "execute_result"
    }
   ],
   "source": [
    "#ваш код\n",
    "\n",
    "def inverse_matrix(A):\n",
    "    # если матрица необратима -> None\n",
    "    if np.abs(np.linalg.det(A)) < 0.001:\n",
    "        return None\n",
    "    # возврат обратной матрицы\n",
    "    return np.linalg.inv(A)\n",
    "\n",
    "# тест на примере входных данных\n",
    "A = np.array([[1, 2], [2, 1]])\n",
    "\n",
    "inverse_matrix(A)\n",
    "# предполагаемый результат: array([[-0.33333333, 0.66666667],[ 0.66666667, -0.33333333]])"
   ]
  },
  {
   "cell_type": "markdown",
   "metadata": {
    "id": "pnIqMUVsKnTq"
   },
   "source": [
    "# Задание 5"
   ]
  },
  {
   "cell_type": "code",
   "execution_count": 31,
   "metadata": {
    "id": "g34wFIBuKpmL"
   },
   "outputs": [
    {
     "name": "stdout",
     "output_type": "stream",
     "text": [
      "[-574.12295766   65.33255763  141.80223878 1566.16246224   12.32450391\n",
      " -315.34552489]\n"
     ]
    }
   ],
   "source": [
    "#ваш код\n",
    "\n",
    "def fit_model(X, y):\n",
    "    # вычисление оптимальных коэффициентов методом OLS\n",
    "    return inverse_matrix(X.T @ X) @ X.T @ y\n",
    "\n",
    "# тест на значениях из таблицы предисловия к проекту\n",
    "print(fit_model(X, Y))\n",
    "# предполагаемый результат: [-574.12295766 65.33255763 141.80223878 1566.16246224 12.32450391 -315.34552489]"
   ]
  }
 ],
 "metadata": {
  "colab": {
   "provenance": []
  },
  "kernelspec": {
   "display_name": "Python 3 (ipykernel)",
   "language": "python",
   "name": "python3"
  },
  "language_info": {
   "codemirror_mode": {
    "name": "ipython",
    "version": 3
   },
   "file_extension": ".py",
   "mimetype": "text/x-python",
   "name": "python",
   "nbconvert_exporter": "python",
   "pygments_lexer": "ipython3",
   "version": "3.9.21"
  }
 },
 "nbformat": 4,
 "nbformat_minor": 4
}
