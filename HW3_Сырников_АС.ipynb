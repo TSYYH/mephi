{
  "nbformat": 4,
  "nbformat_minor": 0,
  "metadata": {
    "colab": {
      "provenance": []
    },
    "kernelspec": {
      "name": "python3",
      "display_name": "Python 3"
    },
    "language_info": {
      "name": "python"
    }
  },
  "cells": [
    {
      "cell_type": "markdown",
      "source": [
        "Установка зависимостей"
      ],
      "metadata": {
        "id": "_c3j8DKGn5m_"
      }
    },
    {
      "cell_type": "code",
      "execution_count": 439,
      "metadata": {
        "id": "MXXTuy_o0sjk"
      },
      "outputs": [],
      "source": [
        "!pip install -q -U kaggle_environments"
      ]
    },
    {
      "cell_type": "markdown",
      "source": [
        "Импорт библиотек"
      ],
      "metadata": {
        "id": "-iLM4ipGn-gb"
      }
    },
    {
      "cell_type": "code",
      "source": [
        "import numpy as np\n",
        "import pandas as pd\n",
        "import random\n",
        "\n",
        "import matplotlib.pyplot as plt\n",
        "import seaborn as sns\n",
        "\n",
        "from kaggle_environments import make, evaluate"
      ],
      "metadata": {
        "id": "yz23vWHD0wcj"
      },
      "execution_count": 440,
      "outputs": []
    },
    {
      "cell_type": "markdown",
      "source": [
        "# **Определяем агентов.** С помощью классов, чтобы избежать использования глобальных переменных для хранения состояния"
      ],
      "metadata": {
        "id": "Dx0ZIU3owBYN"
      }
    },
    {
      "cell_type": "markdown",
      "source": [
        "1. Всегда камень"
      ],
      "metadata": {
        "id": "0kuo6IOxiRub"
      }
    },
    {
      "cell_type": "code",
      "source": [
        "class RockAgent:\n",
        "    def __call__(self, observation, configuration):\n",
        "        # 0 - камень\n",
        "        return 0\n"
      ],
      "metadata": {
        "id": "bqTqV7B92rJ6"
      },
      "execution_count": 441,
      "outputs": []
    },
    {
      "cell_type": "markdown",
      "source": [
        "2. Всегда бумага"
      ],
      "metadata": {
        "id": "pR8RrbSR-dDG"
      }
    },
    {
      "cell_type": "code",
      "source": [
        "class PaperAgent:\n",
        "    def __call__(self, observation, configuration):\n",
        "        # 1 - бумага\n",
        "        return 1"
      ],
      "metadata": {
        "id": "h8Y9TVVK-f5d"
      },
      "execution_count": 442,
      "outputs": []
    },
    {
      "cell_type": "markdown",
      "source": [
        "3. Всегда ножницы"
      ],
      "metadata": {
        "id": "PyI37zeW-n5D"
      }
    },
    {
      "cell_type": "code",
      "source": [
        "class ScissorsAgent:\n",
        "    def __call__(self, observation, configuration):\n",
        "        # 2 - ножницы\n",
        "        return 2"
      ],
      "metadata": {
        "id": "QhJ75bdJ-qxM"
      },
      "execution_count": 443,
      "outputs": []
    },
    {
      "cell_type": "markdown",
      "source": [
        "4. Повторение за противником"
      ],
      "metadata": {
        "id": "et1J5hUGigeh"
      }
    },
    {
      "cell_type": "code",
      "source": [
        "class CopyAgent:\n",
        "    def __call__(self, observation, configuration):\n",
        "        # если не первый ход\n",
        "        if observation.step > 0:\n",
        "            # копируем ход противника\n",
        "            return observation.lastOpponentAction\n",
        "        else:\n",
        "            # случайный ход\n",
        "            return random.randrange(0, configuration.signs)"
      ],
      "metadata": {
        "id": "7l6Ttw6qi0jk"
      },
      "execution_count": 444,
      "outputs": []
    },
    {
      "cell_type": "markdown",
      "source": [
        "5. Рандом"
      ],
      "metadata": {
        "id": "xfNX4gIe-GHj"
      }
    },
    {
      "cell_type": "code",
      "source": [
        "class RandomAgent:\n",
        "    def __call__(self, observation, configuration):\n",
        "        # случайный ход\n",
        "        return random.randrange(0, configuration.signs)"
      ],
      "metadata": {
        "id": "Aqo9F9T6-FKP"
      },
      "execution_count": 445,
      "outputs": []
    },
    {
      "cell_type": "markdown",
      "source": [
        "6. Ход, с которым был бы проигрыш в предыдущем раунде"
      ],
      "metadata": {
        "id": "SfWOZ_ddB15X"
      }
    },
    {
      "cell_type": "code",
      "source": [
        "class ReactionLossAgent:\n",
        "    def __call__(self, observation, configuration):\n",
        "        # если не первый ход\n",
        "        if observation.step > 0:\n",
        "            # проигрышный ход для предыдущего раунда\n",
        "            return (observation.lastOpponentAction + 2) % configuration.signs\n",
        "        else:\n",
        "            # случайный ход\n",
        "            return random.randrange(0, configuration.signs)"
      ],
      "metadata": {
        "id": "9k2j5hCoCHtf"
      },
      "execution_count": 446,
      "outputs": []
    },
    {
      "cell_type": "markdown",
      "source": [
        "7. Ход, с которым был бы выигрыш в предыдущем раунде"
      ],
      "metadata": {
        "id": "TsxyENzdDNKB"
      }
    },
    {
      "cell_type": "code",
      "source": [
        "class ReactionWinAgent:\n",
        "    def __call__(self, observation, configuration):\n",
        "        # если не первый ход\n",
        "        if observation.step > 0:\n",
        "            # выигрышный ход для предыдущего раунда\n",
        "            return (observation.lastOpponentAction + 1) % configuration.signs\n",
        "        else:\n",
        "            # случайный ход\n",
        "            return random.randrange(0, configuration.signs)"
      ],
      "metadata": {
        "id": "GEl5CAsUDStb"
      },
      "execution_count": 447,
      "outputs": []
    },
    {
      "cell_type": "markdown",
      "source": [
        "8. Ход, с которым выиграл бы против своего хода в прошлом раунде"
      ],
      "metadata": {
        "id": "zxo9Z98zDcNt"
      }
    },
    {
      "cell_type": "code",
      "source": [
        "class MyReactionWinAgent:\n",
        "    def __init__(self):\n",
        "        # храним свой последний ход\n",
        "        self.action = -1\n",
        "\n",
        "    def __call__(self, observation, configuration):\n",
        "        # если не было своих ходов\n",
        "        if self.action < 0:\n",
        "            # случайный ход\n",
        "            self.action = random.randrange(0, configuration.signs)\n",
        "            return self.action\n",
        "        else:\n",
        "            # выигрышный ход против себя в предыдущем враунде\n",
        "            self.action = (self.action + 1) % configuration.signs\n",
        "            return self.action\n",
        ""
      ],
      "metadata": {
        "id": "9jT-AmSVEZ1q"
      },
      "execution_count": 448,
      "outputs": []
    },
    {
      "cell_type": "markdown",
      "source": [
        "9. Ход, с которым проиграл бы против своего хода в прошлом раунде"
      ],
      "metadata": {
        "id": "FAirWZnAFW0i"
      }
    },
    {
      "cell_type": "code",
      "source": [
        "class MyReactionLossAgent:\n",
        "    def __init__(self):\n",
        "        # храним свой последний ход\n",
        "        self.action = -1\n",
        "\n",
        "    def __call__(self, observation, configuration):\n",
        "        # если не было своих ходов\n",
        "        if self.action < 0:\n",
        "            # случайный ход\n",
        "            self.action = random.randrange(0, configuration.signs)\n",
        "            return self.action\n",
        "        else:\n",
        "            # проигрышный ход против себя в предыдущем враунде\n",
        "            self.action = (self.action + 2) % configuration.signs\n",
        "            return self.action"
      ],
      "metadata": {
        "id": "x-Hiv26GFcXV"
      },
      "execution_count": 449,
      "outputs": []
    },
    {
      "cell_type": "markdown",
      "source": [
        "10. Статистичекий. Реагирует на самый частый ход"
      ],
      "metadata": {
        "id": "pKfOehKSFpi_"
      }
    },
    {
      "cell_type": "code",
      "source": [
        "class StatisticalMaxAgent:\n",
        "    def __init__(self):\n",
        "        # храним ходы, сделанные противником, и их количество\n",
        "        self.histogram = {}\n",
        "\n",
        "    def __call__(self, observation, configuration):\n",
        "        # Если не первый ход\n",
        "        if observation.step > 0:\n",
        "            # добавляем единичку к определенному ходу\n",
        "            if observation.lastOpponentAction in self.histogram.keys():\n",
        "                self.histogram[observation.lastOpponentAction] += 1\n",
        "            else:\n",
        "                self.histogram[observation.lastOpponentAction] = 1\n",
        "            # получаем самый часто используемый противником ход\n",
        "            res, count = sorted(self.histogram.items(), key=lambda x: x[1], reverse=True)[0]\n",
        "            # ходим против этого хода\n",
        "            return (res + 1) % configuration.signs\n",
        "        else:\n",
        "            # случайный ход\n",
        "            return random.randrange(0, configuration.signs)\n",
        "\n",
        ""
      ],
      "metadata": {
        "id": "WZCKK9cGGGjL"
      },
      "execution_count": 450,
      "outputs": []
    },
    {
      "cell_type": "markdown",
      "source": [
        "11. Статистический. Реагирует на самый неиспользуемый ход. Пока противник не использует все варианты ходов - реагирует на неиспользуемые варианты противника."
      ],
      "metadata": {
        "id": "awiCg73eIZML"
      }
    },
    {
      "cell_type": "code",
      "source": [
        "class StatisticalMinAgent:\n",
        "    def __init__(self):\n",
        "        # храним ходы, сделанные противником, и их количество\n",
        "        self.histogram = {}\n",
        "\n",
        "    def __call__(self, observation, configuration):\n",
        "        # Если не первый ход\n",
        "        if observation.step > 0:\n",
        "            # добавляем единичку к определенному ходу\n",
        "            if observation.lastOpponentAction in self.histogram.keys():\n",
        "                self.histogram[observation.lastOpponentAction] += 1\n",
        "            else:\n",
        "                self.histogram[observation.lastOpponentAction] = 1\n",
        "        else:\n",
        "            # случайный ход\n",
        "            return random.randrange(0, configuration.signs)\n",
        "\n",
        "        # ход, против которого будем ходить\n",
        "        res = 0\n",
        "        # если противник еще не применял какого-нибудь хода\n",
        "        if len(self.histogram) < 3:\n",
        "            for i in range(3):\n",
        "                # находим не использовавшийся ход\n",
        "                if i not in self.histogram.keys():\n",
        "                    res = i\n",
        "                    break\n",
        "        else:\n",
        "            # получаем наименее используемый ход\n",
        "            res, count = sorted(self.histogram.items(), key=lambda x: x[1], reverse=False)[0]\n",
        "        # ходим против этого хода\n",
        "        return (res + 1) % configuration.signs"
      ],
      "metadata": {
        "id": "9LuwqigYIhdN"
      },
      "execution_count": 451,
      "outputs": []
    },
    {
      "cell_type": "markdown",
      "source": [
        "12. Статистически. Реагирует на средне используемый ход. Пока противник не использует все варианты ходов - реагирует на неиспользуемые варианты противника."
      ],
      "metadata": {
        "id": "Y7LnALnnKvjU"
      }
    },
    {
      "cell_type": "code",
      "source": [
        "class StatisticalMidAgent:\n",
        "    def __init__(self):\n",
        "        # храним ходы, сделанные противником, и их количество\n",
        "        self.histogram = {}\n",
        "\n",
        "    def __call__(self, observation, configuration):\n",
        "        # Если не первый ход\n",
        "        if observation.step > 0:\n",
        "            # добавляем единичку к определенному ходу\n",
        "            if observation.lastOpponentAction in self.histogram.keys():\n",
        "                self.histogram[observation.lastOpponentAction] += 1\n",
        "            else:\n",
        "                self.histogram[observation.lastOpponentAction] = 1\n",
        "        else:\n",
        "            # случайный ход\n",
        "            return random.randrange(0, configuration.signs)\n",
        "\n",
        "        # ход, против которого будем ходить\n",
        "        res = 0\n",
        "        # если противник еще не применял какого-нибудь хода\n",
        "        if len(self.histogram) < 3:\n",
        "            for i in range(3):\n",
        "                # находим не использовавшийся ход\n",
        "                if i not in self.histogram.keys():\n",
        "                    res = i\n",
        "                    break\n",
        "        else:\n",
        "            # получаем средне используемый ход\n",
        "            res, count = sorted(self.histogram.items(), key=lambda x: x[1], reverse=False)[1]\n",
        "        # ходим против этого хода\n",
        "        return (res + 1) % configuration.signs"
      ],
      "metadata": {
        "id": "VvwwDSSvK8Pz"
      },
      "execution_count": 452,
      "outputs": []
    },
    {
      "cell_type": "markdown",
      "source": [
        "13. Цилично, повторяя по 2. Например 2-2-0-0-1-1-2-2-..."
      ],
      "metadata": {
        "id": "BJfCa_sHikWR"
      }
    },
    {
      "cell_type": "code",
      "source": [
        "class Cycle2Agent:\n",
        "    def __init__(self):\n",
        "        # храним свой последний ход\n",
        "        self.action = -1\n",
        "        # повторяем ли мы последний ход\n",
        "        self.repeat = True\n",
        "\n",
        "    def __call__(self, observation, configuration):\n",
        "        # если не было своих ходов\n",
        "        if self.action < 0:\n",
        "            # случайный ход\n",
        "            self.action = random.randrange(0, configuration.signs)\n",
        "            return self.action\n",
        "\n",
        "        # +0 при повторении, иначе +1\n",
        "        self.action = (self.action + int(not self.repeat) % 2) % configuration.signs\n",
        "        self.repeat = not self.repeat\n",
        "        # ходим\n",
        "        return self.action"
      ],
      "metadata": {
        "id": "haO9SKjpij2N"
      },
      "execution_count": 453,
      "outputs": []
    },
    {
      "cell_type": "markdown",
      "source": [
        "Воспользуемся функцией evaluate из библиотеки kaggle_environments с помощью которой запустим наших агентов и проведем эксперимент на заданном количестве игр"
      ],
      "metadata": {
        "id": "ExgIpXUVjbjN"
      }
    },
    {
      "cell_type": "code",
      "source": [
        "# используемые агенты\n",
        "agents = {\n",
        "    'rock': RockAgent(),\n",
        "    'paper': PaperAgent(),\n",
        "    'scissors': ScissorsAgent(),\n",
        "    'copy': CopyAgent(),\n",
        "    'random': RandomAgent(),\n",
        "    'reaction_loss': ReactionLossAgent(),\n",
        "    'reaction_win': ReactionWinAgent(),\n",
        "    'my_reaction_win': MyReactionWinAgent(),\n",
        "    'my_reaction_loss': MyReactionLossAgent(),\n",
        "    'statistical_max': StatisticalMaxAgent(),\n",
        "    'statistical_min': StatisticalMinAgent(),\n",
        "    'statistical_mid': StatisticalMidAgent(),\n",
        "    'cycle2': Cycle2Agent(),\n",
        "}\n",
        "\n",
        "# словарь, где ключ - агент, значение - количество побед\n",
        "agents_wins = {}\n",
        "for key in agents.keys():\n",
        "    agents_wins[key] = 0\n",
        "\n",
        "# турнир. Двойной цикл - каждый с каждым\n",
        "for i in range(len(agents)):\n",
        "    for j in range(i + 1, len(agents)):\n",
        "        # ключи агентов по индексу\n",
        "        agent1_key = list(agents.keys())[i]\n",
        "        agent2_key = list(agents.keys())[j]\n",
        "        # проводим раунд\n",
        "        res = evaluate(\n",
        "            \"rps\", # среда - КНБ\n",
        "            [agents[agent1_key], agents[agent2_key]], # агенты\n",
        "            configuration={\"episodeSteps\": 100} # количество эпизодов\n",
        "        )\n",
        "\n",
        "        # если у левого больше побед => +2 очка\n",
        "        if res[0][0] > res[0][1]:\n",
        "            agents_wins[agent1_key] += 2\n",
        "        # если у правого больше побед => +2 очка\n",
        "        elif res[0][0] < res[0][1]:\n",
        "            agents_wins[agent2_key] += 2\n",
        "        # если ничья => +1 очко каждому\n",
        "        else:\n",
        "            agents_wins[agent1_key] += 1\n",
        "            agents_wins[agent2_key] += 1"
      ],
      "metadata": {
        "id": "wv6Ip6M004xa"
      },
      "execution_count": 454,
      "outputs": []
    },
    {
      "cell_type": "code",
      "source": [
        "# Сортируем по возрастанию побед\n",
        "res_wins = dict(sorted(agents_wins.items(), key=lambda x: x[1]))\n",
        "\n",
        "# Названия агентов и их очки\n",
        "names = [key for key in res_wins.keys()]\n",
        "points = [x[1] for x in res_wins.items()]\n",
        "\n",
        "# создаем и отображаем график\n",
        "dfp = pd.DataFrame({'agent': names, 'point': points})\n",
        "plt.figure(figsize=(19, 5))\n",
        "splot = sns.barplot(x='agent', y='point', data=dfp)\n",
        "plt.xlabel('Агент', size=16)\n",
        "plt.ylabel('Очки', size=16)\n",
        "plt.bar_label(splot.containers[0], size=16, label_type='center')\n",
        "plt.suptitle('Результаты по очкам')\n",
        "plt.show()"
      ],
      "metadata": {
        "id": "FC6_QWe9k3rr",
        "colab": {
          "base_uri": "https://localhost:8080/",
          "height": 577
        },
        "outputId": "3b863730-ec58-46d8-dbe5-bc6eadddb872"
      },
      "execution_count": 455,
      "outputs": [
        {
          "output_type": "stream",
          "name": "stderr",
          "text": [
            "/usr/local/lib/python3.10/dist-packages/seaborn/categorical.py:1281: DeprecationWarning: DataFrameGroupBy.apply operated on the grouping columns. This behavior is deprecated, and in a future version of pandas the grouping columns will be excluded from the operation. Either pass `include_groups=False` to exclude the groupings or explicitly select the grouping columns after groupby to silence this warning.\n",
            "  .apply(aggregator, agg_var)\n"
          ]
        },
        {
          "output_type": "display_data",
          "data": {
            "text/plain": [
              "<Figure size 1900x500 with 1 Axes>"
            ],
            "image/png": "[encoded data removed]"
          },
          "metadata": {}
        }
      ]
    },
    {
      "cell_type": "markdown",
      "source": [
        "# **В результате лучше всех себя показала стратегия использовать выигрышный ход для прошлого раунда**"
      ],
      "metadata": {
        "id": "gOI3Ilh6zOfk"
      }
    }
  ]
}